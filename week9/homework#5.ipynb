{
 "cells": [
  {
   "cell_type": "markdown",
   "id": "18bf9fcd",
   "metadata": {},
   "source": [
    "# 이름: 황지희\n",
    "# 학번: 2020312298\n",
    "# 학과: 국어국문학과"
   ]
  },
  {
   "cell_type": "markdown",
   "id": "0f9fe1c2",
   "metadata": {},
   "source": [
    "## Q1. 파이썬 내장 함수만 이용하여 평균을 구하는 함수를 작성하세요."
   ]
  },
  {
   "cell_type": "code",
   "execution_count": 14,
   "id": "7bf3430a",
   "metadata": {},
   "outputs": [
    {
     "data": {
      "text/plain": [
       "3.0"
      ]
     },
     "execution_count": 14,
     "metadata": {},
     "output_type": "execute_result"
    }
   ],
   "source": [
    "def mean(data):\n",
    "    if isinstance(data, list):\n",
    "        return sum(data)/len(data)\n",
    "    else:\n",
    "        raise TypeError(\"list만 입력 가능합니다.\")\n",
    "    \n",
    "mean([1,2,3,4,5]) # return 3.0\n",
    "# example2 = mean(5) # raise TypeError"
   ]
  },
  {
   "cell_type": "markdown",
   "id": "2a0cfc39",
   "metadata": {},
   "source": [
    "## Q2. 파이썬 내장 함수만 이용하여 모집단의 분산을 구하는 함수를 작성하세요. (단, Q1에서 작성한 함수 사용 가능함.)"
   ]
  },
  {
   "cell_type": "code",
   "execution_count": 15,
   "id": "4b46dc49",
   "metadata": {},
   "outputs": [
    {
     "data": {
      "text/plain": [
       "2.0"
      ]
     },
     "execution_count": 15,
     "metadata": {},
     "output_type": "execute_result"
    }
   ],
   "source": [
    "def variance(data):\n",
    "    if isinstance(data, list):\n",
    "        var = [(mean(data) - i)*(mean(data) - i) for i in data]\n",
    "        return sum(var)/len(data)\n",
    "    else:    \n",
    "        raise TypeError(\"list만 입력 가능합니다.\")\n",
    "variance([1,2,3,4,5]) # return 2.0"
   ]
  },
  {
   "cell_type": "markdown",
   "id": "c2779a6a",
   "metadata": {},
   "source": [
    "## Q3. 파이썬 내장 함수만 이용하여 <u>모집단의 표준편차</u>를 구하는 함수를 작성하세요. (단, Q1, Q2에서 작성한 함수 사용 가능함.)"
   ]
  },
  {
   "cell_type": "code",
   "execution_count": 16,
   "id": "a176023a",
   "metadata": {},
   "outputs": [
    {
     "data": {
      "text/plain": [
       "1.4142135623730951"
      ]
     },
     "execution_count": 16,
     "metadata": {},
     "output_type": "execute_result"
    }
   ],
   "source": [
    "def std(data):\n",
    "    if isinstance(data, list):\n",
    "        return pow(variance(data), 0.5)\n",
    "    else:    \n",
    "        raise TypeError(\"list만 입력 가능합니다.\")\n",
    "std([1,2,3,4,5]) # return 1.4142135623730951"
   ]
  },
  {
   "cell_type": "markdown",
   "id": "94f54c28",
   "metadata": {},
   "source": [
    "## Q4. 파이썬 내장 함수만 이용하여 <u>표본의 표준편차</u>를 구하는 함수를 작성하세요. (단, Q1, Q2, Q3에서 작성한 함수 사용 가능함.) 표본의 표준편차를 구하는 방법은 아래 공식을 이용하세요."
   ]
  },
  {
   "cell_type": "markdown",
   "id": "020564e3",
   "metadata": {},
   "source": [
    "## $s_x = \\sqrt{\\sum{(x_i - \\bar{x})^2} \\over n-1}$"
   ]
  },
  {
   "cell_type": "code",
   "execution_count": 17,
   "id": "4b7687e7",
   "metadata": {},
   "outputs": [
    {
     "data": {
      "text/plain": [
       "1.5811388300841898"
      ]
     },
     "execution_count": 17,
     "metadata": {},
     "output_type": "execute_result"
    }
   ],
   "source": [
    "def sample_std(data):\n",
    "    if isinstance(data, list):\n",
    "        var = [(mean(data) - i)*(mean(data) - i) for i in data]\n",
    "        std = sum(var)/(len(data)-1)\n",
    "        return pow(std, 0.5)\n",
    "    else:    \n",
    "        raise TypeError(\"list만 입력 가능합니다.\")\n",
    "sample_std([1,2,3,4,5]) # return 1.5811388300841898"
   ]
  },
  {
   "cell_type": "markdown",
   "id": "3b529d36",
   "metadata": {},
   "source": [
    "## Q5. 파이썬 내장 함수만 이용하여 입력한 리스트의 각 요소들의 Z-Score를 구하는 함수를 작성하세요. (단, Q1, Q2, Q3, Q4에서 작성한 함수 사용 가능함. 단, 표준편차는 표본 표준편차를 사용함.)"
   ]
  },
  {
   "cell_type": "code",
   "execution_count": 18,
   "id": "7d4de3d0",
   "metadata": {},
   "outputs": [
    {
     "data": {
      "text/plain": [
       "[-1.2649110640673518,\n",
       " -0.6324555320336759,\n",
       " 0.0,\n",
       " 0.6324555320336759,\n",
       " 1.2649110640673518]"
      ]
     },
     "execution_count": 18,
     "metadata": {},
     "output_type": "execute_result"
    }
   ],
   "source": [
    "def z_score(data):\n",
    "    if isinstance(data, list):\n",
    "        z = [(i - mean(data))/sample_std(data) for i in data]\n",
    "        return z\n",
    "    else:    \n",
    "        raise TypeError(\"list만 입력 가능합니다.\")\n",
    "z_score([1,2,3,4,5]) # return [-1.2649110640673518, -0.6324555320336759, 0.0, 0.6324555320336759, 1.2649110640673518]"
   ]
  },
  {
   "cell_type": "markdown",
   "id": "0141930d",
   "metadata": {},
   "source": [
    "## Q5. 파이썬 내장 함수만 이용하여 입력한 리스트의 신뢰도 95%의 신뢰구간을 구하는 함수를 작성하세요. (단, Q1, Q2, Q3, Q4, Q5에서 작성한 함수 사용 가능함. 단, 표준정규분포에서 신뢰도 95%의 z-score는 1.96임. 단, 표준편차는 표본 표준편차를 사용함.)"
   ]
  },
  {
   "cell_type": "code",
   "execution_count": 19,
   "id": "d48c9137",
   "metadata": {},
   "outputs": [
    {
     "data": {
      "text/plain": [
       "[1.6140707088743669, 4.385929291125633]"
      ]
     },
     "execution_count": 19,
     "metadata": {},
     "output_type": "execute_result"
    }
   ],
   "source": [
    "def ci(data):\n",
    "    if isinstance(data, list):\n",
    "        c = [mean(data) - 1.96 * sample_std(data)/pow(len(data), 0.5), mean(data) + 1.96 * sample_std(data)/pow(len(data), 0.5)]\n",
    "        return c\n",
    "    else:\n",
    "        raise TypeError(\"list만 입력 가능합니다.\")\n",
    "ci([1,2,3,4,5]) # return [1.6140707088743669, 4.385929291125633]"
   ]
  },
  {
   "cell_type": "markdown",
   "id": "2bb80b79",
   "metadata": {},
   "source": [
    "## Q6 ~ Q10. 가상의 나라인 \"율도국\"은 인구가 10,000명이다. 이 나라 국민들은 17개 지역(location)에 흩어져 살고 있으며 성비(gender)는 잦은 전쟁으로 남자보다 여자가 더 많다. 전쟁으로 인한 사회 불안정 탓인지 월 소득(salary) 불균형도 매우 커서 사회적 불만이 큰 상황이다. 율도국에서는 지난 4월 총선이 있었고 Red당과 Blue당이 총선에서 격돌하였다. df는 총선 결과를 나타내는 데이터 프레임이다. 다음 코드를 실행하고 다음 문제를 계속 진행하세요."
   ]
  },
  {
   "cell_type": "code",
   "execution_count": 1,
   "id": "9b3a0981",
   "metadata": {},
   "outputs": [
    {
     "data": {
      "text/html": [
       "<div>\n",
       "<style scoped>\n",
       "    .dataframe tbody tr th:only-of-type {\n",
       "        vertical-align: middle;\n",
       "    }\n",
       "\n",
       "    .dataframe tbody tr th {\n",
       "        vertical-align: top;\n",
       "    }\n",
       "\n",
       "    .dataframe thead th {\n",
       "        text-align: right;\n",
       "    }\n",
       "</style>\n",
       "<table border=\"1\" class=\"dataframe\">\n",
       "  <thead>\n",
       "    <tr style=\"text-align: right;\">\n",
       "      <th></th>\n",
       "      <th>location</th>\n",
       "      <th>age</th>\n",
       "      <th>gender</th>\n",
       "      <th>salary</th>\n",
       "      <th>party</th>\n",
       "    </tr>\n",
       "  </thead>\n",
       "  <tbody>\n",
       "    <tr>\n",
       "      <th>0</th>\n",
       "      <td>광주</td>\n",
       "      <td>40</td>\n",
       "      <td>M</td>\n",
       "      <td>50</td>\n",
       "      <td>Red</td>\n",
       "    </tr>\n",
       "    <tr>\n",
       "      <th>1</th>\n",
       "      <td>세종</td>\n",
       "      <td>39</td>\n",
       "      <td>F</td>\n",
       "      <td>150</td>\n",
       "      <td>Blue</td>\n",
       "    </tr>\n",
       "    <tr>\n",
       "      <th>2</th>\n",
       "      <td>제주</td>\n",
       "      <td>45</td>\n",
       "      <td>M</td>\n",
       "      <td>50</td>\n",
       "      <td>Red</td>\n",
       "    </tr>\n",
       "    <tr>\n",
       "      <th>3</th>\n",
       "      <td>인천</td>\n",
       "      <td>21</td>\n",
       "      <td>F</td>\n",
       "      <td>200</td>\n",
       "      <td>Blue</td>\n",
       "    </tr>\n",
       "    <tr>\n",
       "      <th>4</th>\n",
       "      <td>대구</td>\n",
       "      <td>39</td>\n",
       "      <td>M</td>\n",
       "      <td>0</td>\n",
       "      <td>Blue</td>\n",
       "    </tr>\n",
       "    <tr>\n",
       "      <th>...</th>\n",
       "      <td>...</td>\n",
       "      <td>...</td>\n",
       "      <td>...</td>\n",
       "      <td>...</td>\n",
       "      <td>...</td>\n",
       "    </tr>\n",
       "    <tr>\n",
       "      <th>9995</th>\n",
       "      <td>경기</td>\n",
       "      <td>38</td>\n",
       "      <td>M</td>\n",
       "      <td>50</td>\n",
       "      <td>Blue</td>\n",
       "    </tr>\n",
       "    <tr>\n",
       "      <th>9996</th>\n",
       "      <td>울산</td>\n",
       "      <td>37</td>\n",
       "      <td>M</td>\n",
       "      <td>150</td>\n",
       "      <td>Red</td>\n",
       "    </tr>\n",
       "    <tr>\n",
       "      <th>9997</th>\n",
       "      <td>충북</td>\n",
       "      <td>34</td>\n",
       "      <td>F</td>\n",
       "      <td>50</td>\n",
       "      <td>Blue</td>\n",
       "    </tr>\n",
       "    <tr>\n",
       "      <th>9998</th>\n",
       "      <td>경북</td>\n",
       "      <td>28</td>\n",
       "      <td>F</td>\n",
       "      <td>900</td>\n",
       "      <td>Red</td>\n",
       "    </tr>\n",
       "    <tr>\n",
       "      <th>9999</th>\n",
       "      <td>서울</td>\n",
       "      <td>43</td>\n",
       "      <td>M</td>\n",
       "      <td>150</td>\n",
       "      <td>Red</td>\n",
       "    </tr>\n",
       "  </tbody>\n",
       "</table>\n",
       "<p>10000 rows × 5 columns</p>\n",
       "</div>"
      ],
      "text/plain": [
       "     location  age gender  salary party\n",
       "0          광주   40      M      50   Red\n",
       "1          세종   39      F     150  Blue\n",
       "2          제주   45      M      50   Red\n",
       "3          인천   21      F     200  Blue\n",
       "4          대구   39      M       0  Blue\n",
       "...       ...  ...    ...     ...   ...\n",
       "9995       경기   38      M      50  Blue\n",
       "9996       울산   37      M     150   Red\n",
       "9997       충북   34      F      50  Blue\n",
       "9998       경북   28      F     900   Red\n",
       "9999       서울   43      M     150   Red\n",
       "\n",
       "[10000 rows x 5 columns]"
      ]
     },
     "execution_count": 1,
     "metadata": {},
     "output_type": "execute_result"
    }
   ],
   "source": [
    "import numpy as np\n",
    "import pandas as pd\n",
    "location = ['서울','경기','인천','강원','충남','충북','대전','전북','전남','광주','경북','대구','부산','울산','경남','제주','세종']\n",
    "gender = ['M','F','E']\n",
    "party = ['Red', 'Blue']\n",
    "df = pd.DataFrame()                                                                                                                                                                     \n",
    "N = 10000                                                                                                                                                                                \n",
    "df[\"location\"] = np.random.choice(location, size=N, p=[0.1,0.1,0.1]+[0.05]*14)                                                                                                                                     \n",
    "df[\"age\"] = [int(i) if i>=0 else int(-i) for i in np.random.normal(35, 10, N)]                                                                                                                                               \n",
    "df[\"gender\"] = np.random.choice(gender, p = [0.4, 0.59, 0.01], size=N)\n",
    "df['salary'] = np.random.permutation([(int(i)-1)*50 for i in np.exp(1.5*np.linspace(0, 2, N))])\n",
    "df['party'] = df.apply(lambda x: np.random.choice(party, p=[0.1, 0.9]) if x['location']=='대전' else np.random.choice(party), axis=1)\n",
    "df"
   ]
  },
  {
   "cell_type": "markdown",
   "id": "a2c6faf9",
   "metadata": {},
   "source": [
    "## Q6-1. (중심 극한 정리) 율도국 국민(df) 중에서 표본 크기가 50인 표본을 추출하는 것을 1,000번 반복한 후 각 표본의 'salary'의 표본평균을 측정한 결과의 리스트를 출력하는 함수를 작성하세요. "
   ]
  },
  {
   "cell_type": "code",
   "execution_count": 4,
   "id": "8c67ccec",
   "metadata": {},
   "outputs": [],
   "source": [
    "def sampling50(df):\n",
    "    salaryMeans = []\n",
    "    for i in range (1000):\n",
    "        samples = df['salary'].sample(n=50)\n",
    "        sampleMean = np.mean(samples)\n",
    "        salaryMeans.append(sampleMean)\n",
    "    return salaryMeans\n",
    "    \n",
    "sampled50 = sampling50(df)"
   ]
  },
  {
   "cell_type": "markdown",
   "id": "ee5f2518",
   "metadata": {},
   "source": [
    "## Q6-2. (중심 극한 정리) 율도국 국민(df) 중에서 표본 크기가 500인 표본을 추출하는 것을 1,000번 반복한 후 각 표본의 'salary'의 표본평균을 측정한 결과의 리스트를 출력하는 함수를 작성하세요. "
   ]
  },
  {
   "cell_type": "code",
   "execution_count": 5,
   "id": "21957003",
   "metadata": {},
   "outputs": [],
   "source": [
    "def sampling500(df):\n",
    "    salaryMeans = []\n",
    "    for i in range (1000):\n",
    "        samples = df['salary'].sample(n=500)\n",
    "        sampleMean = np.mean(samples)\n",
    "        salaryMeans.append(sampleMean)\n",
    "    return salaryMeans\n",
    "\n",
    "sampled500 = sampling500(df)"
   ]
  },
  {
   "cell_type": "markdown",
   "id": "cbb9a558",
   "metadata": {},
   "source": [
    "### Q6에서 작성한 함수의 출력 결과를 인자로 넣어 아래 코드에서 실행하세요."
   ]
  },
  {
   "cell_type": "code",
   "execution_count": 6,
   "id": "dca649a1",
   "metadata": {},
   "outputs": [],
   "source": [
    "import matplotlib.pyplot as plt"
   ]
  },
  {
   "cell_type": "code",
   "execution_count": 7,
   "id": "aeb421fe",
   "metadata": {},
   "outputs": [
    {
     "data": {
      "text/plain": [
       "<matplotlib.lines.Line2D at 0x1c98e1390a0>"
      ]
     },
     "execution_count": 7,
     "metadata": {},
     "output_type": "execute_result"
    },
    {
     "data": {
      "image/png": "[encoded data removed]",
      "text/plain": [
       "<Figure size 432x288 with 1 Axes>"
      ]
     },
     "metadata": {
      "needs_background": "light"
     },
     "output_type": "display_data"
    }
   ],
   "source": [
    "import seaborn as sns\n",
    "sns.histplot(sampled50, kde=True)\n",
    "plt.axvline(np.mean(sampled50))\n",
    "sns.histplot(sampled500, kde=True, color='r')\n",
    "plt.axvline(np.mean(sampled50), color = 'r')"
   ]
  },
  {
   "cell_type": "markdown",
   "id": "d0c24496",
   "metadata": {},
   "source": [
    "## Q7. (통계적 가설 검정) 사회과학에 관심이 많은 재민이는 율도국의 성별에 따라 월 평균 소득에 차이가 있을 것이라고 생각하고 있다. 아래 코드에 재민이가 이 연구를 수행하기 위해 세운 귀무가설과 대립가설을 입력하세요."
   ]
  },
  {
   "cell_type": "code",
   "execution_count": 28,
   "id": "12649b60",
   "metadata": {},
   "outputs": [
    {
     "name": "stdout",
     "output_type": "stream",
     "text": [
      "귀무가설(H0): 성별에 따른 월 평균 소득 차이는 없다.\n",
      "대립가설(Ha): 성별에 따라 월 평균 소득 차이가 있다.\n"
     ]
    }
   ],
   "source": [
    "print(\"귀무가설(H0): 성별에 따른 월 평균 소득 차이는 없다.\")\n",
    "print(\"대립가설(Ha): 성별에 따라 월 평균 소득 차이가 있다.\")"
   ]
  },
  {
   "cell_type": "markdown",
   "id": "7e4d8c43",
   "metadata": {},
   "source": [
    "## Q8. 재민이는 율도국의 평균 나이가 35세 라는 귀무가설이 맞다는 전제 하에 크기가 100인 표본을 추출하였는데, 이 때 표본평균이 50세로 나타났다. 이러한 통계치가 관측될 확률(p-value)을 구하는 코드를 작성하세요."
   ]
  },
  {
   "cell_type": "code",
   "execution_count": 27,
   "id": "03d05480",
   "metadata": {},
   "outputs": [],
   "source": [
    "from scipy import stats"
   ]
  },
  {
   "cell_type": "code",
   "execution_count": 29,
   "id": "312eaa26",
   "metadata": {},
   "outputs": [
    {
     "data": {
      "text/plain": [
       "10.033070676019381"
      ]
     },
     "execution_count": 29,
     "metadata": {},
     "output_type": "execute_result"
    }
   ],
   "source": [
    "age_list = df['age'].tolist()\n",
    "std = np.std(age_list)\n",
    "std"
   ]
  },
  {
   "cell_type": "code",
   "execution_count": 33,
   "id": "67e6258e",
   "metadata": {},
   "outputs": [
    {
     "name": "stdout",
     "output_type": "stream",
     "text": [
      "p값:  0.0\n"
     ]
    },
    {
     "data": {
      "text/plain": [
       "0.0"
      ]
     },
     "execution_count": 33,
     "metadata": {},
     "output_type": "execute_result"
    }
   ],
   "source": [
    "#1번째 방법\n",
    "def ztest(mu, sigma, xbar, n ):    \n",
    "    z = (xbar - mu) / (sigma/np.sqrt(n))\n",
    "    p = 2 * stats.norm.cdf(z)\n",
    "    if z>0:\n",
    "        p = 2* (1 - stats.norm.cdf(z))\n",
    "        print(\"p값: \", p)\n",
    "    return p\n",
    "\n",
    "ztest(35, std, 50, 100)"
   ]
  },
  {
   "cell_type": "code",
   "execution_count": 30,
   "id": "f8dc92f7",
   "metadata": {},
   "outputs": [
    {
     "name": "stdout",
     "output_type": "stream",
     "text": [
      "p값: 7.722537358846639e-51\n"
     ]
    }
   ],
   "source": [
    "#2번째 방법\n",
    "from scipy.integrate import quad\n",
    "from math import *\n",
    "\n",
    "def N(x, u, s2) -> ( float ) :\n",
    "    p = 1 / sqrt( 2 * pi * s2) * exp( - pow( x - u, 2) / ( 2 * s2 ) ) \n",
    "    return p\n",
    "\n",
    "def f(x) :\n",
    "    return N(x, 0, pow(1, 2))\n",
    "\n",
    "P = quad( f, 150/std, np.inf)\n",
    "\n",
    "print( \"p값:\", P[0] )"
   ]
  },
  {
   "cell_type": "markdown",
   "id": "04478c39",
   "metadata": {},
   "source": [
    "## Q9. 재민이는 Q8에서 수행한 결과를 학회에서 발표하였다. 그러나 율도국 정부에서 인구주택총조사를 진행하여 율도국 국민들의 나이를 조사한 결과 재민이가 추출한 표본은 극단적인 값임이 확인되었다. 이 때, 재민이가 범한 오류는 \"1종 오류\"와 \"2종 오류\" 중 무엇인지 출력하세요."
   ]
  },
  {
   "cell_type": "code",
   "execution_count": 38,
   "id": "9f55f7bf",
   "metadata": {},
   "outputs": [
    {
     "name": "stdout",
     "output_type": "stream",
     "text": [
      "1종 오류\n"
     ]
    }
   ],
   "source": [
    "print(\"1종 오류\")"
   ]
  },
  {
   "cell_type": "markdown",
   "id": "b2613649",
   "metadata": {},
   "source": [
    "## Q10. 재민이는 율도국 국민들이 나이가 들수록 더 많은 소득을 얻을 것이라고 생각하고 있다. 재민이의 주장이 맞으려면 age와 salary를 단순 선형 회귀 분석하였을 때, slope가 양수여야 하며, p-value는 0.05보다 작아야 한다. 이러한 가설을 확인 할 수 있도록 선형 회귀 분석을 하고 이를 summary하는 테이블을 출력하는 코드를 작성하세요."
   ]
  },
  {
   "cell_type": "code",
   "execution_count": 39,
   "id": "e4d2b2dd",
   "metadata": {},
   "outputs": [
    {
     "data": {
      "image/png": "[encoded data removed]",
      "text/plain": [
       "<Figure size 432x288 with 1 Axes>"
      ]
     },
     "metadata": {
      "needs_background": "light"
     },
     "output_type": "display_data"
    }
   ],
   "source": [
    "import statsmodels.api as sm\n",
    "%matplotlib inline\n",
    "\n",
    "x = np.array(df['age'])\n",
    "y = np.array(df['salary'])\n",
    "\n",
    "plt.scatter(x,y)\n",
    "plt.xlabel('Age')\n",
    "plt.ylabel('Salary')\n",
    "plt.title('Dataset')\n",
    "plt.show()"
   ]
  },
  {
   "cell_type": "code",
   "execution_count": 40,
   "id": "52a2434e",
   "metadata": {},
   "outputs": [
    {
     "data": {
      "image/png": "[encoded data removed]",
      "text/plain": [
       "<Figure size 432x288 with 1 Axes>"
      ]
     },
     "metadata": {
      "needs_background": "light"
     },
     "output_type": "display_data"
    }
   ],
   "source": [
    "from sklearn.linear_model import LinearRegression\n",
    "model = LinearRegression(fit_intercept=True)\n",
    "\n",
    "model.fit(x[:, np.newaxis], y)\n",
    "\n",
    "xfit = np.linspace(np.min(x), np.max(x), 1000)\n",
    "yfit = model.predict(xfit[:,np.newaxis])\n",
    "\n",
    "plt.scatter(x,y)\n",
    "plt.xlabel('Age')\n",
    "plt.ylabel('Salary')\n",
    "plt.title('Dataset')\n",
    "plt.plot(xfit, yfit, color='r');"
   ]
  },
  {
   "cell_type": "code",
   "execution_count": 41,
   "id": "0c0b38e0",
   "metadata": {},
   "outputs": [
    {
     "data": {
      "text/html": [
       "<table class=\"simpletable\">\n",
       "<caption>OLS Regression Results</caption>\n",
       "<tr>\n",
       "  <th>Dep. Variable:</th>         <td>salary</td>      <th>  R-squared:         </th> <td>   0.000</td> \n",
       "</tr>\n",
       "<tr>\n",
       "  <th>Model:</th>                   <td>OLS</td>       <th>  Adj. R-squared:    </th> <td>  -0.000</td> \n",
       "</tr>\n",
       "<tr>\n",
       "  <th>Method:</th>             <td>Least Squares</td>  <th>  F-statistic:       </th> <td>  0.1848</td> \n",
       "</tr>\n",
       "<tr>\n",
       "  <th>Date:</th>             <td>Tue, 10 May 2022</td> <th>  Prob (F-statistic):</th>  <td> 0.667</td>  \n",
       "</tr>\n",
       "<tr>\n",
       "  <th>Time:</th>                 <td>12:39:43</td>     <th>  Log-Likelihood:    </th> <td> -69673.</td> \n",
       "</tr>\n",
       "<tr>\n",
       "  <th>No. Observations:</th>      <td> 10000</td>      <th>  AIC:               </th> <td>1.394e+05</td>\n",
       "</tr>\n",
       "<tr>\n",
       "  <th>Df Residuals:</th>          <td>  9998</td>      <th>  BIC:               </th> <td>1.394e+05</td>\n",
       "</tr>\n",
       "<tr>\n",
       "  <th>Df Model:</th>              <td>     1</td>      <th>                     </th>     <td> </td>    \n",
       "</tr>\n",
       "<tr>\n",
       "  <th>Covariance Type:</th>      <td>nonrobust</td>    <th>                     </th>     <td> </td>    \n",
       "</tr>\n",
       "</table>\n",
       "<table class=\"simpletable\">\n",
       "<tr>\n",
       "      <td></td>         <th>coef</th>     <th>std err</th>      <th>t</th>      <th>P>|t|</th>  <th>[0.025</th>    <th>0.975]</th>  \n",
       "</tr>\n",
       "<tr>\n",
       "  <th>Intercept</th> <td>  240.6445</td> <td>    9.183</td> <td>   26.204</td> <td> 0.000</td> <td>  222.643</td> <td>  258.646</td>\n",
       "</tr>\n",
       "<tr>\n",
       "  <th>age</th>       <td>    0.1101</td> <td>    0.256</td> <td>    0.430</td> <td> 0.667</td> <td>   -0.392</td> <td>    0.612</td>\n",
       "</tr>\n",
       "</table>\n",
       "<table class=\"simpletable\">\n",
       "<tr>\n",
       "  <th>Omnibus:</th>       <td>1185.214</td> <th>  Durbin-Watson:     </th> <td>   1.977</td>\n",
       "</tr>\n",
       "<tr>\n",
       "  <th>Prob(Omnibus):</th>  <td> 0.000</td>  <th>  Jarque-Bera (JB):  </th> <td>1660.507</td>\n",
       "</tr>\n",
       "<tr>\n",
       "  <th>Skew:</th>           <td> 0.996</td>  <th>  Prob(JB):          </th> <td>    0.00</td>\n",
       "</tr>\n",
       "<tr>\n",
       "  <th>Kurtosis:</th>       <td> 2.881</td>  <th>  Cond. No.          </th> <td>    128.</td>\n",
       "</tr>\n",
       "</table><br/><br/>Notes:<br/>[1] Standard Errors assume that the covariance matrix of the errors is correctly specified."
      ],
      "text/plain": [
       "<class 'statsmodels.iolib.summary.Summary'>\n",
       "\"\"\"\n",
       "                            OLS Regression Results                            \n",
       "==============================================================================\n",
       "Dep. Variable:                 salary   R-squared:                       0.000\n",
       "Model:                            OLS   Adj. R-squared:                 -0.000\n",
       "Method:                 Least Squares   F-statistic:                    0.1848\n",
       "Date:                Tue, 10 May 2022   Prob (F-statistic):              0.667\n",
       "Time:                        12:39:43   Log-Likelihood:                -69673.\n",
       "No. Observations:               10000   AIC:                         1.394e+05\n",
       "Df Residuals:                    9998   BIC:                         1.394e+05\n",
       "Df Model:                           1                                         \n",
       "Covariance Type:            nonrobust                                         \n",
       "==============================================================================\n",
       "                 coef    std err          t      P>|t|      [0.025      0.975]\n",
       "------------------------------------------------------------------------------\n",
       "Intercept    240.6445      9.183     26.204      0.000     222.643     258.646\n",
       "age            0.1101      0.256      0.430      0.667      -0.392       0.612\n",
       "==============================================================================\n",
       "Omnibus:                     1185.214   Durbin-Watson:                   1.977\n",
       "Prob(Omnibus):                  0.000   Jarque-Bera (JB):             1660.507\n",
       "Skew:                           0.996   Prob(JB):                         0.00\n",
       "Kurtosis:                       2.881   Cond. No.                         128.\n",
       "==============================================================================\n",
       "\n",
       "Notes:\n",
       "[1] Standard Errors assume that the covariance matrix of the errors is correctly specified.\n",
       "\"\"\""
      ]
     },
     "execution_count": 41,
     "metadata": {},
     "output_type": "execute_result"
    }
   ],
   "source": [
    "import statsmodels.api as sm\n",
    "model = sm.OLS.from_formula(\"salary ~ age\", data = df)\n",
    "result = model.fit()\n",
    "result.summary()"
   ]
  },
  {
   "cell_type": "markdown",
   "id": "7f2325b0",
   "metadata": {},
   "source": [
    "## Q11. 재민이는 대전, 서울, 대구, 광주 지역의 Red당의 지지율에 의미 있는 차이가 있다고 생각했다. 이를 확인하기 위해 재민이는 여론조사를 실시하여 크기 1,000개짜리 표본을 추출하였다. 재민이의 가설이 맞는지 ANOVA를 실시하여 확인하는 코드를 작성하세요."
   ]
  },
  {
   "cell_type": "code",
   "execution_count": 42,
   "id": "af4e4f23",
   "metadata": {},
   "outputs": [],
   "source": [
    "samples = df[(df['location']=='대전') | (df['location']=='서울') | (df['location']=='대구') | (df['location']=='광주')].sample(n=1000)"
   ]
  },
  {
   "cell_type": "code",
   "execution_count": 43,
   "id": "062bd59c",
   "metadata": {},
   "outputs": [
    {
     "data": {
      "text/html": [
       "<div>\n",
       "<style scoped>\n",
       "    .dataframe tbody tr th:only-of-type {\n",
       "        vertical-align: middle;\n",
       "    }\n",
       "\n",
       "    .dataframe tbody tr th {\n",
       "        vertical-align: top;\n",
       "    }\n",
       "\n",
       "    .dataframe thead th {\n",
       "        text-align: right;\n",
       "    }\n",
       "</style>\n",
       "<table border=\"1\" class=\"dataframe\">\n",
       "  <thead>\n",
       "    <tr style=\"text-align: right;\">\n",
       "      <th></th>\n",
       "      <th>location</th>\n",
       "      <th>age</th>\n",
       "      <th>gender</th>\n",
       "      <th>salary</th>\n",
       "      <th>party_Blue</th>\n",
       "      <th>party_Red</th>\n",
       "    </tr>\n",
       "  </thead>\n",
       "  <tbody>\n",
       "    <tr>\n",
       "      <th>1703</th>\n",
       "      <td>광주</td>\n",
       "      <td>41</td>\n",
       "      <td>F</td>\n",
       "      <td>0</td>\n",
       "      <td>1</td>\n",
       "      <td>0</td>\n",
       "    </tr>\n",
       "    <tr>\n",
       "      <th>8685</th>\n",
       "      <td>대구</td>\n",
       "      <td>47</td>\n",
       "      <td>F</td>\n",
       "      <td>850</td>\n",
       "      <td>1</td>\n",
       "      <td>0</td>\n",
       "    </tr>\n",
       "    <tr>\n",
       "      <th>9107</th>\n",
       "      <td>대구</td>\n",
       "      <td>46</td>\n",
       "      <td>F</td>\n",
       "      <td>150</td>\n",
       "      <td>1</td>\n",
       "      <td>0</td>\n",
       "    </tr>\n",
       "    <tr>\n",
       "      <th>8260</th>\n",
       "      <td>서울</td>\n",
       "      <td>35</td>\n",
       "      <td>F</td>\n",
       "      <td>500</td>\n",
       "      <td>1</td>\n",
       "      <td>0</td>\n",
       "    </tr>\n",
       "    <tr>\n",
       "      <th>7357</th>\n",
       "      <td>서울</td>\n",
       "      <td>19</td>\n",
       "      <td>M</td>\n",
       "      <td>0</td>\n",
       "      <td>0</td>\n",
       "      <td>1</td>\n",
       "    </tr>\n",
       "    <tr>\n",
       "      <th>...</th>\n",
       "      <td>...</td>\n",
       "      <td>...</td>\n",
       "      <td>...</td>\n",
       "      <td>...</td>\n",
       "      <td>...</td>\n",
       "      <td>...</td>\n",
       "    </tr>\n",
       "    <tr>\n",
       "      <th>4024</th>\n",
       "      <td>서울</td>\n",
       "      <td>33</td>\n",
       "      <td>M</td>\n",
       "      <td>500</td>\n",
       "      <td>1</td>\n",
       "      <td>0</td>\n",
       "    </tr>\n",
       "    <tr>\n",
       "      <th>4636</th>\n",
       "      <td>서울</td>\n",
       "      <td>45</td>\n",
       "      <td>M</td>\n",
       "      <td>300</td>\n",
       "      <td>0</td>\n",
       "      <td>1</td>\n",
       "    </tr>\n",
       "    <tr>\n",
       "      <th>2235</th>\n",
       "      <td>대구</td>\n",
       "      <td>39</td>\n",
       "      <td>F</td>\n",
       "      <td>200</td>\n",
       "      <td>1</td>\n",
       "      <td>0</td>\n",
       "    </tr>\n",
       "    <tr>\n",
       "      <th>3445</th>\n",
       "      <td>광주</td>\n",
       "      <td>21</td>\n",
       "      <td>F</td>\n",
       "      <td>500</td>\n",
       "      <td>0</td>\n",
       "      <td>1</td>\n",
       "    </tr>\n",
       "    <tr>\n",
       "      <th>9126</th>\n",
       "      <td>광주</td>\n",
       "      <td>27</td>\n",
       "      <td>M</td>\n",
       "      <td>100</td>\n",
       "      <td>1</td>\n",
       "      <td>0</td>\n",
       "    </tr>\n",
       "  </tbody>\n",
       "</table>\n",
       "<p>1000 rows × 6 columns</p>\n",
       "</div>"
      ],
      "text/plain": [
       "     location  age gender  salary  party_Blue  party_Red\n",
       "1703       광주   41      F       0           1          0\n",
       "8685       대구   47      F     850           1          0\n",
       "9107       대구   46      F     150           1          0\n",
       "8260       서울   35      F     500           1          0\n",
       "7357       서울   19      M       0           0          1\n",
       "...       ...  ...    ...     ...         ...        ...\n",
       "4024       서울   33      M     500           1          0\n",
       "4636       서울   45      M     300           0          1\n",
       "2235       대구   39      F     200           1          0\n",
       "3445       광주   21      F     500           0          1\n",
       "9126       광주   27      M     100           1          0\n",
       "\n",
       "[1000 rows x 6 columns]"
      ]
     },
     "execution_count": 43,
     "metadata": {},
     "output_type": "execute_result"
    }
   ],
   "source": [
    "samples = pd.get_dummies(samples, columns = ['party'])\n",
    "samples"
   ]
  },
  {
   "cell_type": "code",
   "execution_count": 44,
   "id": "95688fbb",
   "metadata": {},
   "outputs": [],
   "source": [
    "samples = samples.drop(['age', 'gender', 'salary', 'party_Blue'], axis = 1)"
   ]
  },
  {
   "cell_type": "code",
   "execution_count": 45,
   "id": "2198aeaf",
   "metadata": {},
   "outputs": [
    {
     "data": {
      "text/html": [
       "<div>\n",
       "<style scoped>\n",
       "    .dataframe tbody tr th:only-of-type {\n",
       "        vertical-align: middle;\n",
       "    }\n",
       "\n",
       "    .dataframe tbody tr th {\n",
       "        vertical-align: top;\n",
       "    }\n",
       "\n",
       "    .dataframe thead th {\n",
       "        text-align: right;\n",
       "    }\n",
       "</style>\n",
       "<table border=\"1\" class=\"dataframe\">\n",
       "  <thead>\n",
       "    <tr style=\"text-align: right;\">\n",
       "      <th></th>\n",
       "      <th>sum_sq</th>\n",
       "      <th>df</th>\n",
       "      <th>F</th>\n",
       "      <th>PR(&gt;F)</th>\n",
       "    </tr>\n",
       "  </thead>\n",
       "  <tbody>\n",
       "    <tr>\n",
       "      <th>C(location)</th>\n",
       "      <td>20.03445</td>\n",
       "      <td>3.0</td>\n",
       "      <td>30.439055</td>\n",
       "      <td>7.868766e-19</td>\n",
       "    </tr>\n",
       "    <tr>\n",
       "      <th>Residual</th>\n",
       "      <td>218.51655</td>\n",
       "      <td>996.0</td>\n",
       "      <td>NaN</td>\n",
       "      <td>NaN</td>\n",
       "    </tr>\n",
       "  </tbody>\n",
       "</table>\n",
       "</div>"
      ],
      "text/plain": [
       "                sum_sq     df          F        PR(>F)\n",
       "C(location)   20.03445    3.0  30.439055  7.868766e-19\n",
       "Residual     218.51655  996.0        NaN           NaN"
      ]
     },
     "execution_count": 45,
     "metadata": {},
     "output_type": "execute_result"
    }
   ],
   "source": [
    "from statsmodels.formula.api import ols\n",
    "model = ols('party_Red ~ C(location)', data=samples).fit()\n",
    "anova_table = sm.stats.anova_lm(model, typ=2)\n",
    "anova_table"
   ]
  }
 ],
 "metadata": {
  "kernelspec": {
   "display_name": "Python 3 (ipykernel)",
   "language": "python",
   "name": "python3"
  },
  "language_info": {
   "codemirror_mode": {
    "name": "ipython",
    "version": 3
   },
   "file_extension": ".py",
   "mimetype": "text/x-python",
   "name": "python",
   "nbconvert_exporter": "python",
   "pygments_lexer": "ipython3",
   "version": "3.9.7"
  }
 },
 "nbformat": 4,
 "nbformat_minor": 5
}
