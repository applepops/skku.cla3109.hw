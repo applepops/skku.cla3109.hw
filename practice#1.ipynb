{
 "cells": [
  {
   "cell_type": "markdown",
   "id": "86608d69",
   "metadata": {},
   "source": [
    "# Watcha Pedia 박스 오피스 영화 정보 수집하기"
   ]
  },
  {
   "cell_type": "markdown",
   "id": "7e8ad16d",
   "metadata": {},
   "source": [
    "## 필요한 라이브러리 설치"
   ]
  },
  {
   "cell_type": "code",
   "execution_count": 14,
   "id": "afa99f3e",
   "metadata": {},
   "outputs": [
    {
     "name": "stdout",
     "output_type": "stream",
     "text": [
      "Requirement already satisfied: lxml in c:\\users\\82104\\anaconda3\\lib\\site-packages (4.6.3)\n",
      "Requirement already satisfied: requests in c:\\users\\82104\\anaconda3\\lib\\site-packages (2.26.0)\n",
      "Requirement already satisfied: certifi>=2017.4.17 in c:\\users\\82104\\anaconda3\\lib\\site-packages (from requests) (2021.10.8)\n",
      "Requirement already satisfied: idna<4,>=2.5 in c:\\users\\82104\\anaconda3\\lib\\site-packages (from requests) (3.2)\n",
      "Requirement already satisfied: charset-normalizer~=2.0.0 in c:\\users\\82104\\anaconda3\\lib\\site-packages (from requests) (2.0.4)\n",
      "Requirement already satisfied: urllib3<1.27,>=1.21.1 in c:\\users\\82104\\anaconda3\\lib\\site-packages (from requests) (1.26.7)\n",
      "Requirement already satisfied: bs4 in c:\\users\\82104\\anaconda3\\lib\\site-packages (0.0.1)\n",
      "Requirement already satisfied: beautifulsoup4 in c:\\users\\82104\\anaconda3\\lib\\site-packages (from bs4) (4.10.0)\n",
      "Requirement already satisfied: soupsieve>1.2 in c:\\users\\82104\\anaconda3\\lib\\site-packages (from beautifulsoup4->bs4) (2.2.1)\n",
      "Requirement already satisfied: openpyxl in c:\\users\\82104\\anaconda3\\lib\\site-packages (3.0.9)\n",
      "Requirement already satisfied: et-xmlfile in c:\\users\\82104\\anaconda3\\lib\\site-packages (from openpyxl) (1.1.0)\n",
      "Requirement already satisfied: selenium in c:\\users\\82104\\anaconda3\\lib\\site-packages (4.1.3)\n",
      "Requirement already satisfied: urllib3[secure,socks]~=1.26 in c:\\users\\82104\\anaconda3\\lib\\site-packages (from selenium) (1.26.7)\n",
      "Requirement already satisfied: trio~=0.17 in c:\\users\\82104\\anaconda3\\lib\\site-packages (from selenium) (0.20.0)\n",
      "Requirement already satisfied: trio-websocket~=0.9 in c:\\users\\82104\\anaconda3\\lib\\site-packages (from selenium) (0.9.2)\n",
      "Requirement already satisfied: sniffio in c:\\users\\82104\\anaconda3\\lib\\site-packages (from trio~=0.17->selenium) (1.2.0)\n",
      "Requirement already satisfied: outcome in c:\\users\\82104\\anaconda3\\lib\\site-packages (from trio~=0.17->selenium) (1.1.0)\n",
      "Requirement already satisfied: sortedcontainers in c:\\users\\82104\\anaconda3\\lib\\site-packages (from trio~=0.17->selenium) (2.4.0)\n",
      "Requirement already satisfied: idna in c:\\users\\82104\\anaconda3\\lib\\site-packages (from trio~=0.17->selenium) (3.2)\n",
      "Requirement already satisfied: attrs>=19.2.0 in c:\\users\\82104\\anaconda3\\lib\\site-packages (from trio~=0.17->selenium) (21.2.0)\n",
      "Requirement already satisfied: cffi>=1.14 in c:\\users\\82104\\anaconda3\\lib\\site-packages (from trio~=0.17->selenium) (1.14.6)\n",
      "Requirement already satisfied: async-generator>=1.9 in c:\\users\\82104\\anaconda3\\lib\\site-packages (from trio~=0.17->selenium) (1.10)\n",
      "Requirement already satisfied: pycparser in c:\\users\\82104\\anaconda3\\lib\\site-packages (from cffi>=1.14->trio~=0.17->selenium) (2.20)\n",
      "Requirement already satisfied: wsproto>=0.14 in c:\\users\\82104\\anaconda3\\lib\\site-packages (from trio-websocket~=0.9->selenium) (1.1.0)\n",
      "Requirement already satisfied: pyOpenSSL>=0.14 in c:\\users\\82104\\anaconda3\\lib\\site-packages (from urllib3[secure,socks]~=1.26->selenium) (21.0.0)\n",
      "Requirement already satisfied: cryptography>=1.3.4 in c:\\users\\82104\\anaconda3\\lib\\site-packages (from urllib3[secure,socks]~=1.26->selenium) (3.4.8)\n",
      "Requirement already satisfied: certifi in c:\\users\\82104\\anaconda3\\lib\\site-packages (from urllib3[secure,socks]~=1.26->selenium) (2021.10.8)\n",
      "Requirement already satisfied: PySocks!=1.5.7,<2.0,>=1.5.6 in c:\\users\\82104\\anaconda3\\lib\\site-packages (from urllib3[secure,socks]~=1.26->selenium) (1.7.1)\n",
      "Requirement already satisfied: six>=1.5.2 in c:\\users\\82104\\anaconda3\\lib\\site-packages (from pyOpenSSL>=0.14->urllib3[secure,socks]~=1.26->selenium) (1.16.0)\n",
      "Requirement already satisfied: h11<1,>=0.9.0 in c:\\users\\82104\\anaconda3\\lib\\site-packages (from wsproto>=0.14->trio-websocket~=0.9->selenium) (0.13.0)\n"
     ]
    }
   ],
   "source": [
    "!pip install lxml\n",
    "!pip install requests\n",
    "!pip install bs4\n",
    "!pip install openpyxl\n",
    "!pip install selenium"
   ]
  },
  {
   "cell_type": "markdown",
   "id": "c94c004b",
   "metadata": {},
   "source": [
    "## 목표 URL 수집하기"
   ]
  },
  {
   "cell_type": "code",
   "execution_count": 5,
   "id": "dff1f326",
   "metadata": {
    "scrolled": true
   },
   "outputs": [
    {
     "data": {
      "text/plain": [
       "<Response [200]>"
      ]
     },
     "execution_count": 5,
     "metadata": {},
     "output_type": "execute_result"
    }
   ],
   "source": [
    "import requests # HTTP request를 쉽게 구현해주는 라이브러리\n",
    "watcha_url = \"https://pedia.watcha.com/ko-KR/?domain=movie\"# 크롤링 원하는 주소\n",
    "response = requests.get(watcha_url)\n",
    "response # 내가 원하는 것? https://docs.python-requests.org/en/latest/api/#requests.Response"
   ]
  },
  {
   "cell_type": "code",
   "execution_count": 7,
   "id": "3bea9f78",
   "metadata": {},
   "outputs": [
    {
     "data": {
      "text/plain": [
       "['https://pedia.watcha.com/ko-KR/contents/mO1jmAV',\n",
       " 'https://pedia.watcha.com/ko-KR/contents/mdj20mq',\n",
       " 'https://pedia.watcha.com/ko-KR/contents/m5Zl46z',\n",
       " 'https://pedia.watcha.com/ko-KR/contents/mOgjGVz',\n",
       " 'https://pedia.watcha.com/ko-KR/contents/md6aNEZ',\n",
       " 'https://pedia.watcha.com/ko-KR/contents/m5Go91n',\n",
       " 'https://pedia.watcha.com/ko-KR/contents/mW42rQw',\n",
       " 'https://pedia.watcha.com/ko-KR/contents/mW42AGq',\n",
       " 'https://pedia.watcha.com/ko-KR/contents/m5x1J2x',\n",
       " 'https://pedia.watcha.com/ko-KR/contents/mOAkDQP']"
      ]
     },
     "execution_count": 7,
     "metadata": {},
     "output_type": "execute_result"
    }
   ],
   "source": [
    "from lxml import html # XML 또는 HTML을 Parsing해 주는 라이브러리\n",
    "bo_urls = [\"https://pedia.watcha.com\"+i for i in html.fromstring(response.text).xpath('//*[@id=\"root\"]/div/div[1]/section/div/section/div[1]/div[2]/div/div[1]/div/div/ul/li//a/@href')]"
   ]
  },
  {
   "cell_type": "markdown",
   "id": "55100768",
   "metadata": {},
   "source": [
    "### [Xpath 더 알아보기](https://www.w3schools.com/xml/xpath_syntax.asp)"
   ]
  },
  {
   "cell_type": "markdown",
   "id": "6f28f8d1",
   "metadata": {},
   "source": [
    "## 각 URL에서 원하는 정보 획득하기"
   ]
  },
  {
   "cell_type": "code",
   "execution_count": 8,
   "id": "ceb29e0c",
   "metadata": {},
   "outputs": [],
   "source": [
    "bo_list = []\n",
    "for bo_url in bo_urls:\n",
    "    movie_page = requests.get(bo_url)\n",
    "    movie_title = [i.text for i in html.fromstring(movie_page.text).xpath('//*[@id=\"root\"]/div/div[1]/section/div/div[2]/div/section/div[2]/div/div/div/div/h1')][0]\n",
    "    movie_detail = [i for i in html.fromstring(movie_page.text).xpath('//*[@id=\"root\"]/div/div[1]/section/div/div[2]/div/section/div[2]/div/div/div/div/div[1]/text()')][0]\n",
    "    movie_desc  = [i for i in html.fromstring(movie_page.text).xpath('//*[@id=\"root\"]/div/div[1]/section/div/div[2]/div/div/div/div[1]/div[1]/div/div/section[2]/div[2]/div/article/div[2]/div/text()')][0]\n",
    "    movie_rate  = [i for i in html.fromstring(movie_page.text).xpath('//*[@id=\"root\"]/div/div[1]/section/div/div[2]/div/section/div[2]/div/div/div/div/div[2]/text()')][0]\n",
    "    movie_poster = [i.get('src') for i in html.fromstring(movie_page.text).xpath('//*[@id=\"root\"]/div/div[1]/section/div/div[2]/div/section/div[1]/div[2]/div/div/div/div[1]/img')][0]\n",
    "    movie_dict = {\"movie_title\":movie_title, \"movie_detail\":movie_detail,\n",
    "                  \"movie_desc\":movie_desc, \"movie_rate\":movie_rate, \"movie_poster\":movie_poster}\n",
    "    bo_list.append(movie_dict)\n"
   ]
  },
  {
   "cell_type": "code",
   "execution_count": 9,
   "id": "fc73bc02",
   "metadata": {},
   "outputs": [
    {
     "data": {
      "text/plain": [
       "[{'movie_title': '문폴',\n",
       "  'movie_detail': '2022 ・ 판타지/액션/드라마 ・ 캐나다/미국/영국',\n",
       "  'movie_desc': '1969년 인류의 위대한 도전, 달 착륙 성공 2022년 인류 최후의 재난, 달이 지구와 충돌한다! 궤도를 이탈한 달이 지구를 향해 떨어지기 시작하면서 지구의 중력과 모든 물리적인 법칙이 붕괴된다. 거대한 해일과 지진, 화산폭발, 쓰나미와 이상기후까지 상상조차 불가능했던 모든 재난으로 전 세계는 공포와 혼란에 빠진다. 달과 충돌까지 남은 시간은 단 30일. NASA 연구원 `파울러`(할리 베리), 전직 우주 비행사 `브라이언`(패트릭 윌슨), 그리고 우주 덕후 `KC`(존 브래들리)는 달을 막을 방법을 찾기 위해 마지막 우주선에 오른다. 인류 멸망 D-30일, 추락하는 달을 반드시 멈춰야 한다',\n",
       "  'movie_rate': '평균 ★2.2 (698명)',\n",
       "  'movie_poster': 'https://an2-img.amz.wtchn.net/image/v2/E8ZdVl5FnCa3PbIiLgjkew.jpg?jwt=ZXlKaGJHY2lPaUpJVXpJMU5pSjkuZXlKdmNIUnpJanBiSW1SZk1qZ3dlRFF3TUhFNE1DSmRMQ0p3SWpvaUwzWXlMM04wYjNKbEwybHRZV2RsTHpFMk5EWXhORE0zTlRneU1USXpOalExTlRZaWZRLjEzM3lRcGNPZVRnRDJoMDdOWW5pNk0zSDdDZk5TN1dkcmVGemNBMDZQejQ'},\n",
       " {'movie_title': '뜨거운 피',\n",
       "  'movie_detail': '2020 ・ 범죄/드라마 ・ 한국',\n",
       "  'movie_desc': '부산 변두리 작은 포구 `구암`의 절대적인 주인 `손영감`(김갑수),\\xa0그의 밑에서 수년간 수족으로 일해온 `희수`(정우)는\\xa0무엇 하나 이뤄낸 것 없이, 큰돈 한번 만져보지 못한 채 반복되는 건달 짓이 지긋지긋하다.\\xa0 1993년, 범죄와의 전쟁 이후 새로운 구역을 집어삼키기 위해 물색중인 영도파 건달들은\\xa0아무도 관심 갖지 않는 `구암`에 눈독을 들이고, 영도파 에이스이자 `희수`의 오랜 친구 `철진`(지승현)이 `희수`에게 은밀히 접근한다.\\xa0 새로운 삶을 시작하려는 `희수`는 갈등하고,\\xa0조용하던 `구암`을 차지하려는 밑바닥 건달들의 치열한 생존 싸움이 시작되는데... 더 이상 물러날 곳도 도망칠 곳도 없다. 누구든 망설이는 놈이 진다!',\n",
       "  'movie_rate': ' ',\n",
       "  'movie_poster': 'https://an2-img.amz.wtchn.net/image/v2/alJx8BY7dQccbL_yncGSDw.jpg?jwt=ZXlKaGJHY2lPaUpJVXpJMU5pSjkuZXlKdmNIUnpJanBiSW1SZk1qZ3dlRFF3TUhFNE1DSmRMQ0p3SWpvaUwzWXlMM04wYjNKbEwybHRZV2RsTHpFMk5EWTJNek13TkRjM09UZ3hNakE0TWpFaWZRLlhhVnpjeDExZ0NBSFBTWHQxMUNlVnloQUlUeEJqT0NRVFMtUURyb3ludVk'},\n",
       " {'movie_title': '이상한 나라의 수학자',\n",
       "  'movie_detail': '2020 ・ 드라마 ・ 한국',\n",
       "  'movie_desc': '“정답보다 중요한 건 답을 찾는 과정이야” 학문의 자유를 갈망하며 탈북한 천재 수학자 `이학성`(최민식). 그는 자신의 신분과 사연을 숨긴 채 상위 1%의 영재들이 모인 자사고의 경비원으로 살아간다. 차갑고 무뚝뚝한 표정으로 학생들의 기피 대상 1호인 `이학성`은 어느 날 자신의 정체를 알게 된 뒤 수학을 가르쳐 달라 조르는 수학을 포기한 고등학생 `한지우`(김동휘)를 만난다. 정답만을 찾는 세상에서 방황하던 `한지우`에게 올바른 풀이 과정을 찾아나가는 법을 가르치며 `이학성` 역시 뜻하지 않은 삶의 전환점을 맞게 된다.',\n",
       "  'movie_rate': '평균 ★2.9 (1,777명)',\n",
       "  'movie_poster': 'https://an2-img.amz.wtchn.net/image/v2/hsg-TCpZwXPAsMUOcgIdKg.jpg?jwt=ZXlKaGJHY2lPaUpJVXpJMU5pSjkuZXlKdmNIUnpJanBiSW1SZk1qZ3dlRFF3TUhFNE1DSmRMQ0p3SWpvaUwzWXlMM04wYjNKbEwybHRZV2RsTHpFMk5EUXpOek16TkRNNE16RTFNVEUyTnpjaWZRLllwdVh4STY4OXBJVWRnd0w5eTl2YzVzcjBPNHBONEc0dVU2MWRXOHVmWjQ'},\n",
       " {'movie_title': '스펜서',\n",
       "  'movie_detail': '2021 ・ 전기/드라마 ・ 영국/독일/미국',\n",
       "  'movie_desc': '1991년, 왕실 가족이 샌드링엄 별장에 모여서 보내는 크리스마스. 연휴 3일간 이뤄지는 다이애나 왕세자비의 감정 변화에 집중한다. 스펜서는 직접 운전을 하다가 뒤늦게 별장에 도착한다. 모두가 그의 지각을 마뜩잖게 생각하고, 그 순간부터 통제는 시작된다. 다이애나는 3일 동안 의심과 결심 사이를 오가며 중대한 결정을 내리게 되는데...',\n",
       "  'movie_rate': '평균 ★3.6 (1,837명)',\n",
       "  'movie_poster': 'https://an2-img.amz.wtchn.net/image/v2/_8BzRXrN328-dm3ILdHrEQ.jpg?jwt=ZXlKaGJHY2lPaUpJVXpJMU5pSjkuZXlKdmNIUnpJanBiSW1SZk1qZ3dlRFF3TUhFNE1DSmRMQ0p3SWpvaUwzWXlMM04wYjNKbEwybHRZV2RsTHpFMk5EVXdNVGMxTkRBNU5UZ3dPVGszTVRJaWZRLklhemxOOEg3cU9KQVV0clZ3QXVjRS03TmZlQnd3RWhobUdPQlpPRDVtTGs'},\n",
       " {'movie_title': '더 배트맨',\n",
       "  'movie_detail': '2022 ・ 액션/범죄/드라마 ・ 미국',\n",
       "  'movie_desc': '영웅이 될 것인가 악당이 될 것인가 운명을 결정할 선택만이 남았다 지난 2년간 고담시의 어둠 속에서 범법자들을 응징하며 배트맨으로 살아온 브루스 웨인. 알프레드와 제임스 고든 경위의 도움 아래, 도시의 부패한 공직자들과 고위 관료들 사이에서 복수의 화신으로 활약한다. 고담의 시장 선거를 앞두고 고담의 엘리트 집단을 목표로 잔악한 연쇄살인을 저지르는 수수께끼 킬러 리들러가 나타나자, 최고의 탐정 브루스 웨인이 수사에 나서고 남겨진 단서를 풀어가며 캣우먼, 펭귄, 카마인 팔코네, 리들러를 차례대로 만난다. 사이코 범인의 미스터리를 수사하면서 그 모든 증거가 자신을 향한 의도적인 메시지였음을 깨닫고, 리들러에게 농락 당한 배트맨은 광기에 사로잡힌다. 범인의 무자비한 계획을 막고 오랫동안 고담시를 썩게 만든 권력 부패의 고리를 끊어야 하지만, 부모님의 죽음에 얽힌 진실이 밝혀지자 복수와 정의 사이에서 갈등한다. 선과 악, 빛과 어둠, 영웅과 악당, 정의와 복수... 무엇을 선택할 것인가',\n",
       "  'movie_rate': '평균 ★3.5 (2만명)',\n",
       "  'movie_poster': 'https://an2-img.amz.wtchn.net/image/v2/NdPk_f6CR_y-Ra0GJ3Ig5A.jpg?jwt=ZXlKaGJHY2lPaUpJVXpJMU5pSjkuZXlKdmNIUnpJanBiSW1SZk1qZ3dlRFF3TUhFNE1DSmRMQ0p3SWpvaUwzWXlMM04wYjNKbEwybHRZV2RsTHpFMk5ETXdOekkwTVRrME56QXlPRFkxTVRNaWZRLnphdi1XU3I1WFNrNXVQakd2VTlMQzc3TWJtQThwYVFLOEhJS0d5RmYyV28'},\n",
       " {'movie_title': '극장판 주술회전 0',\n",
       "  'movie_detail': '2021 ・ 애니메이션/액션/모험 ・ 일본',\n",
       "  'movie_desc': '어릴 적 소꿉친구인 오리모토 리카를 교통사고로 눈앞에서 잃은 옷코츠 유타. “약속해, 리카와 유타는 어른이 되면 결혼하기로”\\xa0 옷코츠는 원령으로 변한 리카의 저주에 괴로워한 나머지, 자신도 죽기를 바라지만 최강의 주술사인 고죠 사토루에 의해 주술고전에 들어가게 된다. 그리고 동급생인 젠인 마키, 이누마키 토게, 판다를 만나면서 굳은 결심을 한다.\\xa0 “살아도 된다는 자신감이 필요해”\\xa0\\xa0 “나는 주술고전에서 리카의 저주를 풀겠습니다”\\xa0 한편, 옷코츠와 친구들 앞에 과거에 일반인을 대량으로 학살해서 고전에서 추방된 최악의 주저사인 게토 스구루가 나타난다. “12월 24일, 우리는 백귀야행을 결행한다” 주술사만의 낙원을 만들려는 게토는 비술사를 섬멸하겠다면서, 신주쿠와 교토에 천의 저주를 내리는데…과연 옷코츠는 게토를 막을 수 있을까? 그리고 리카의 저주를 풀 수 있을까?',\n",
       "  'movie_rate': '평균 ★3.8 (3,976명)',\n",
       "  'movie_poster': 'https://an2-img.amz.wtchn.net/image/v2/5CSy5j_hR0EPQrYNftJCZg.jpg?jwt=ZXlKaGJHY2lPaUpJVXpJMU5pSjkuZXlKdmNIUnpJanBiSW1SZk1qZ3dlRFF3TUhFNE1DSmRMQ0p3SWpvaUwzWXlMM04wYjNKbEwybHRZV2RsTHpFMk5ETTFPRFV3Tnprd05UazJNekF3T0RZaWZRLkg2eGVkMUtLSHAyOVlMSnY1UmpRNVdjVjBnN0R1Y1J3OUZjVXhPejJ1aGc'},\n",
       " {'movie_title': '메리 미',\n",
       "  'movie_detail': '2022 ・ 로맨스/코미디 ・ 미국',\n",
       "  'movie_desc': '선결혼 후연애! 슈퍼스타 X 슈퍼노멀 커플 탄생! 슈퍼스타 `캣 발데즈’는 화려한 공개 결혼식 콘서트 당일\\xa0자신의 피앙세 `바스티안`이 바람을 피웠다는 사실을 알고 충격에 빠진다.\\xa0한편 딸에게 이끌려 온 콘서트장에서 남이 주고 간 `Marry Me` 플래카드를 우연히 들고 있던 수학 교사 `찰리`. `캣 발데즈`는 그런 `찰리`를 향해 `Yes`를 외치고, 전 세계가 바라보는 가운데 두 사람은 무대 위에서 결혼식을 올린다.\\xa0 화려한 무대 위 삶이 익숙한 슈퍼스타와 평범한 무대 밖의 삶 밖에 모르는 슈퍼노멀 수학 교사, 두 사람의 특별한 선결혼 후연애 로맨스가 지금부터 시작된다!',\n",
       "  'movie_rate': '평균 ★2.8 (95명)',\n",
       "  'movie_poster': 'https://an2-img.amz.wtchn.net/image/v2/nPAFcWimj1pX6IbvrjDTLw.jpg?jwt=ZXlKaGJHY2lPaUpJVXpJMU5pSjkuZXlKdmNIUnpJanBiSW1SZk1qZ3dlRFF3TUhFNE1DSmRMQ0p3SWpvaUwzWXlMM04wYjNKbEwybHRZV2RsTHpFMk5EVTFNRGsyTnpnME56TXhNVFk1T0RnaWZRLnBZbHpPYnJvUnhUUE1jTGhjQnhqNmRrSzB2VnV5MFFxa09MMEhGUXRTZU0'},\n",
       " {'movie_title': '도어맨',\n",
       "  'movie_detail': '2020 ・ 액션/스릴러 ・ 미국',\n",
       "  'movie_desc': '해병대 복무 중 테러집단의 공격으로 대사와 가족을 잃은 알리(루비 로즈)는 제대 후 고급 아파트 도어맨으로 새로운 삶을 시작한다. 우연히 그곳에 거주하고 있던 형부와 조카들을 만나 부활절 저녁을 함께 하던 그 시각, 빅터(장 르노)는 수십 년 전 동료 버나드가 빼돌린 고가의 미술품을 노리고 무장 괴한들과 함께 아파트에 침입하는데…. 한편, 리모델링을 위해 대부분의 입주자들이 이주해 텅 비어있는 아파트를 장악하고 미술품들을 찾던 빅터 일당은 버나드가 원래 지내던 곳이 알리의 형부 가족들의 집이라는 사실을 알고 10층으로 향한다! 위기에 처한 형부와 조카들을 구하기 위해 고군분투하는 알리는 과연 무장 괴한들을 제압할 수 있을 것인가?!',\n",
       "  'movie_rate': '평균 ★2.2 (182명)',\n",
       "  'movie_poster': 'https://an2-img.amz.wtchn.net/image/v2/-a_wFi_c1EQuxOGyS2B7bg.jpg?jwt=ZXlKaGJHY2lPaUpJVXpJMU5pSjkuZXlKdmNIUnpJanBiSW1SZk1qZ3dlRFF3TUhFNE1DSmRMQ0p3SWpvaUwzWXlMM04wYjNKbEwybHRZV2RsTHpFMk5EVTFNRGs1TnpreU16UTBPRGt3T0RnaWZRLjNHYi1tNkpOekk4T3BVMDVxM2pDWE5jUHJGTmFOUTRNQzh0N0dPVmZKWjg'},\n",
       " {'movie_title': '하늘의 푸르름을 아는 사람이여',\n",
       "  'movie_detail': '2019 ・ 판타지/로맨스/애니메이션 ・ 일본',\n",
       "  'movie_desc': '“후회하지 않기 위해, 다시 널 만나러 왔어” \\u200b 산으로 둘러 싸인 시골 마을,\\xa0그곳엔 꿈을 위해 쉼 없이 달려가는\\xa0자매 `아오이`, `아카네` 그리고 `신노`가 있었다.\\xa0`신노`는 함께 도쿄 상경을 약속했던 `아카네`를 찾아갔지만,`아카네`는 혼자 남을 동생 `아오이`로 인해 꿈을 접는다. \\u200b 13년 후, 고등학생이 된 `아오이`는 언니에 대한 죄책감과 자신의 꿈 사이에서 방황하고 두 사람의 관계는 점점 멀어져 간다. 그러던 어느 날, 두 사람 앞에 다시는 만날 수 없을 것 같았던 `그`가 전혀 다른 모습의 두 사람이 되어 동시에 나타나게 되는데… \\u200b “어째서 내게 다시 찾아온 거야?” \\u200b 과거와 현재를 잇는, 신비로운 두 번째 첫사랑이 시작된다!',\n",
       "  'movie_rate': '평균 ★3.2 (402명)',\n",
       "  'movie_poster': 'https://an2-img.amz.wtchn.net/image/v2/mPP0dI5M_NFAbcy87S0UCQ.jpg?jwt=ZXlKaGJHY2lPaUpJVXpJMU5pSjkuZXlKdmNIUnpJanBiSW1SZk1qZ3dlRFF3TUhFNE1DSmRMQ0p3SWpvaUwzWXlMM04wYjNKbEwybHRZV2RsTHpFMk5EY3lNemc1TkRBM09EYzFOamcyT0RjaWZRLl9NdktYWm1xQ1lmZjBHNGpFLS13T0I5RzdJMVFYcE9IR0E3cGFTR1lNRUE'},\n",
       " {'movie_title': '안테벨룸',\n",
       "  'movie_detail': '2020 ・ 드라마/공포/미스터리 ・ 미국',\n",
       "  'movie_desc': '그것이 당신을 지목했고,\\xa0아무도 당신을 구할 수 없다.\\xa0당신은 선택되었다.',\n",
       "  'movie_rate': '평균 ★3.1 (2,584명)',\n",
       "  'movie_poster': 'https://an2-img.amz.wtchn.net/image/v2/2Xa0e9wlYzaWR42CpAE_Vg.jpg?jwt=ZXlKaGJHY2lPaUpJVXpJMU5pSjkuZXlKdmNIUnpJanBiSW1SZk1qZ3dlRFF3TUhFNE1DSmRMQ0p3SWpvaUwzWXlMM04wYjNKbEwybHRZV2RsTHpFMk5EUXlNVFExTURNNU5EQTROek15TmpRaWZRLmJSdUplVUhqNnV4RGtibmtHLVNidXJkQlJFcWp6NHE0cmNqbGhyM0xDdmc'}]"
      ]
     },
     "execution_count": 9,
     "metadata": {},
     "output_type": "execute_result"
    }
   ],
   "source": [
    "bo_list"
   ]
  },
  {
   "cell_type": "code",
   "execution_count": 22,
   "id": "29f14dba",
   "metadata": {},
   "outputs": [
    {
     "data": {
      "text/html": [
       "<img src=\"https://an2-img.amz.wtchn.net/image/v2/5CSy5j_hR0EPQrYNftJCZg.jpg?jwt=ZXlKaGJHY2lPaUpJVXpJMU5pSjkuZXlKdmNIUnpJanBiSW1SZk1qZ3dlRFF3TUhFNE1DSmRMQ0p3SWpvaUwzWXlMM04wYjNKbEwybHRZV2RsTHpFMk5ETTFPRFV3Tnprd05UazJNekF3T0RZaWZRLkg2eGVkMUtLSHAyOVlMSnY1UmpRNVdjVjBnN0R1Y1J3OUZjVXhPejJ1aGc\"/>"
      ],
      "text/plain": [
       "<IPython.core.display.Image object>"
      ]
     },
     "execution_count": 22,
     "metadata": {},
     "output_type": "execute_result"
    }
   ],
   "source": [
    "# 제대로 수집 됐는지 확인하기\n",
    "from IPython.display import Image, display # Jupyter notebook에서 이미지를 보여주는 라이브러리\n",
    "Image(url=bo_list[5]['movie_poster'])"
   ]
  },
  {
   "cell_type": "markdown",
   "id": "c95e5963",
   "metadata": {},
   "source": [
    "## BeautifulSoup4으로 한다면?"
   ]
  },
  {
   "cell_type": "code",
   "execution_count": 23,
   "id": "a2764241",
   "metadata": {},
   "outputs": [
    {
     "name": "stdout",
     "output_type": "stream",
     "text": [
      "문폴\n",
      "뜨거운 피\n",
      "스펜서\n",
      "이상한 나라의 수학자\n",
      "더 배트맨\n",
      "극장판 주술회전 0\n",
      "메리 미\n",
      "도어맨\n",
      "하늘의 푸르름을 아는 사람이여\n",
      "고양이들의 아파트\n"
     ]
    }
   ],
   "source": [
    "from bs4 import BeautifulSoup # https://www.crummy.com/software/BeautifulSoup/bs4/doc/\n",
    "for bo_url in bo_urls:\n",
    "    movie_page = requests.get(bo_url).text\n",
    "    soup = BeautifulSoup(movie_page, 'html.parser')\n",
    "    movie_title = soup.select_one('#root > div > div.css-1xm32e0 > section > div > div.css-1ihluk0-Content.e1ezac431 > div > section > div.css-1p7n6er-Pane.e1svyhwg15 > div > div > div > div > h1')\n",
    "    movie_title = movie_title.get_text()\n",
    "    print(movie_title)"
   ]
  },
  {
   "cell_type": "markdown",
   "id": "fe3d08e9",
   "metadata": {},
   "source": [
    "## pandas DataFrame으로 만들기"
   ]
  },
  {
   "cell_type": "code",
   "execution_count": 24,
   "id": "c6517770",
   "metadata": {},
   "outputs": [],
   "source": [
    "import pandas as pd"
   ]
  },
  {
   "cell_type": "code",
   "execution_count": 25,
   "id": "469a0a51",
   "metadata": {},
   "outputs": [
    {
     "data": {
      "text/html": [
       "<div>\n",
       "<style scoped>\n",
       "    .dataframe tbody tr th:only-of-type {\n",
       "        vertical-align: middle;\n",
       "    }\n",
       "\n",
       "    .dataframe tbody tr th {\n",
       "        vertical-align: top;\n",
       "    }\n",
       "\n",
       "    .dataframe thead th {\n",
       "        text-align: right;\n",
       "    }\n",
       "</style>\n",
       "<table border=\"1\" class=\"dataframe\">\n",
       "  <thead>\n",
       "    <tr style=\"text-align: right;\">\n",
       "      <th></th>\n",
       "      <th>movie_title</th>\n",
       "      <th>movie_detail</th>\n",
       "      <th>movie_desc</th>\n",
       "      <th>movie_rate</th>\n",
       "      <th>movie_poster</th>\n",
       "    </tr>\n",
       "  </thead>\n",
       "  <tbody>\n",
       "    <tr>\n",
       "      <th>0</th>\n",
       "      <td>문폴</td>\n",
       "      <td>2022 ・ 판타지/액션/드라마 ・ 캐나다/미국/영국</td>\n",
       "      <td>1969년 인류의 위대한 도전, 달 착륙 성공 2022년 인류 최후의 재난, 달이 ...</td>\n",
       "      <td>평균 ★2.2 (567명)</td>\n",
       "      <td>https://an2-img.amz.wtchn.net/image/v2/E8ZdVl5...</td>\n",
       "    </tr>\n",
       "    <tr>\n",
       "      <th>1</th>\n",
       "      <td>뜨거운 피</td>\n",
       "      <td>2020 ・ 범죄/드라마 ・ 한국</td>\n",
       "      <td>부산 변두리 작은 포구 `구암`의 절대적인 주인 `손영감`(김갑수), 그의 밑에서 ...</td>\n",
       "      <td></td>\n",
       "      <td>https://an2-img.amz.wtchn.net/image/v2/alJx8BY...</td>\n",
       "    </tr>\n",
       "    <tr>\n",
       "      <th>2</th>\n",
       "      <td>스펜서</td>\n",
       "      <td>2021 ・ 전기/드라마 ・ 영국/독일/미국</td>\n",
       "      <td>1991년, 왕실 가족이 샌드링엄 별장에 모여서 보내는 크리스마스. 연휴 3일간 이...</td>\n",
       "      <td>평균 ★3.6 (1,456명)</td>\n",
       "      <td>https://an2-img.amz.wtchn.net/image/v2/_8BzRXr...</td>\n",
       "    </tr>\n",
       "    <tr>\n",
       "      <th>3</th>\n",
       "      <td>이상한 나라의 수학자</td>\n",
       "      <td>2020 ・ 드라마 ・ 한국</td>\n",
       "      <td>“정답보다 중요한 건 답을 찾는 과정이야” 학문의 자유를 갈망하며 탈북한 천재 수학...</td>\n",
       "      <td>평균 ★2.9 (1,712명)</td>\n",
       "      <td>https://an2-img.amz.wtchn.net/image/v2/hsg-TCp...</td>\n",
       "    </tr>\n",
       "    <tr>\n",
       "      <th>4</th>\n",
       "      <td>더 배트맨</td>\n",
       "      <td>2022 ・ 액션/범죄/드라마 ・ 미국</td>\n",
       "      <td>영웅이 될 것인가 악당이 될 것인가 운명을 결정할 선택만이 남았다 지난 2년간 고담...</td>\n",
       "      <td>평균 ★3.5 (2만명)</td>\n",
       "      <td>https://an2-img.amz.wtchn.net/image/v2/NdPk_f6...</td>\n",
       "    </tr>\n",
       "    <tr>\n",
       "      <th>5</th>\n",
       "      <td>극장판 주술회전 0</td>\n",
       "      <td>2021 ・ 애니메이션/액션/모험 ・ 일본</td>\n",
       "      <td>어릴 적 소꿉친구인 오리모토 리카를 교통사고로 눈앞에서 잃은 옷코츠 유타. “약속해...</td>\n",
       "      <td>평균 ★3.8 (3,946명)</td>\n",
       "      <td>https://an2-img.amz.wtchn.net/image/v2/5CSy5j_...</td>\n",
       "    </tr>\n",
       "    <tr>\n",
       "      <th>6</th>\n",
       "      <td>메리 미</td>\n",
       "      <td>2022 ・ 로맨스/코미디 ・ 미국</td>\n",
       "      <td>선결혼 후연애! 슈퍼스타 X 슈퍼노멀 커플 탄생! 슈퍼스타 `캣 발데즈’는 화려한 ...</td>\n",
       "      <td>평균 ★2.8 (65명)</td>\n",
       "      <td>https://an2-img.amz.wtchn.net/image/v2/nPAFcWi...</td>\n",
       "    </tr>\n",
       "    <tr>\n",
       "      <th>7</th>\n",
       "      <td>도어맨</td>\n",
       "      <td>2020 ・ 액션/스릴러 ・ 미국</td>\n",
       "      <td>해병대 복무 중 테러집단의 공격으로 대사와 가족을 잃은 알리(루비 로즈)는 제대 후...</td>\n",
       "      <td>평균 ★2.2 (165명)</td>\n",
       "      <td>https://an2-img.amz.wtchn.net/image/v2/-a_wFi_...</td>\n",
       "    </tr>\n",
       "    <tr>\n",
       "      <th>8</th>\n",
       "      <td>하늘의 푸르름을 아는 사람이여</td>\n",
       "      <td>2019 ・ 판타지/로맨스/애니메이션 ・ 일본</td>\n",
       "      <td>“후회하지 않기 위해, 다시 널 만나러 왔어” ​ 산으로 둘러 싸인 시골 마을, 그...</td>\n",
       "      <td>평균 ★3.2 (365명)</td>\n",
       "      <td>https://an2-img.amz.wtchn.net/image/v2/mPP0dI5...</td>\n",
       "    </tr>\n",
       "    <tr>\n",
       "      <th>9</th>\n",
       "      <td>고양이들의 아파트</td>\n",
       "      <td>2020 ・ 다큐멘터리 ・ 한국</td>\n",
       "      <td>서울 동쪽 끝, 거대한 아파트 단지. 그곳은 오래도록 고양이들과 사람들이 함께 마음...</td>\n",
       "      <td>평균 ★3.3 (115명)</td>\n",
       "      <td>https://an2-img.amz.wtchn.net/image/v2/c3TXrIj...</td>\n",
       "    </tr>\n",
       "  </tbody>\n",
       "</table>\n",
       "</div>"
      ],
      "text/plain": [
       "        movie_title                   movie_detail  \\\n",
       "0                문폴  2022 ・ 판타지/액션/드라마 ・ 캐나다/미국/영국   \n",
       "1             뜨거운 피             2020 ・ 범죄/드라마 ・ 한국   \n",
       "2               스펜서       2021 ・ 전기/드라마 ・ 영국/독일/미국   \n",
       "3       이상한 나라의 수학자                2020 ・ 드라마 ・ 한국   \n",
       "4             더 배트맨          2022 ・ 액션/범죄/드라마 ・ 미국   \n",
       "5        극장판 주술회전 0        2021 ・ 애니메이션/액션/모험 ・ 일본   \n",
       "6              메리 미            2022 ・ 로맨스/코미디 ・ 미국   \n",
       "7               도어맨             2020 ・ 액션/스릴러 ・ 미국   \n",
       "8  하늘의 푸르름을 아는 사람이여      2019 ・ 판타지/로맨스/애니메이션 ・ 일본   \n",
       "9         고양이들의 아파트              2020 ・ 다큐멘터리 ・ 한국   \n",
       "\n",
       "                                          movie_desc        movie_rate  \\\n",
       "0  1969년 인류의 위대한 도전, 달 착륙 성공 2022년 인류 최후의 재난, 달이 ...    평균 ★2.2 (567명)   \n",
       "1  부산 변두리 작은 포구 `구암`의 절대적인 주인 `손영감`(김갑수), 그의 밑에서 ...                     \n",
       "2  1991년, 왕실 가족이 샌드링엄 별장에 모여서 보내는 크리스마스. 연휴 3일간 이...  평균 ★3.6 (1,456명)   \n",
       "3  “정답보다 중요한 건 답을 찾는 과정이야” 학문의 자유를 갈망하며 탈북한 천재 수학...  평균 ★2.9 (1,712명)   \n",
       "4  영웅이 될 것인가 악당이 될 것인가 운명을 결정할 선택만이 남았다 지난 2년간 고담...     평균 ★3.5 (2만명)   \n",
       "5  어릴 적 소꿉친구인 오리모토 리카를 교통사고로 눈앞에서 잃은 옷코츠 유타. “약속해...  평균 ★3.8 (3,946명)   \n",
       "6  선결혼 후연애! 슈퍼스타 X 슈퍼노멀 커플 탄생! 슈퍼스타 `캣 발데즈’는 화려한 ...     평균 ★2.8 (65명)   \n",
       "7  해병대 복무 중 테러집단의 공격으로 대사와 가족을 잃은 알리(루비 로즈)는 제대 후...    평균 ★2.2 (165명)   \n",
       "8  “후회하지 않기 위해, 다시 널 만나러 왔어” ​ 산으로 둘러 싸인 시골 마을, 그...    평균 ★3.2 (365명)   \n",
       "9  서울 동쪽 끝, 거대한 아파트 단지. 그곳은 오래도록 고양이들과 사람들이 함께 마음...    평균 ★3.3 (115명)   \n",
       "\n",
       "                                        movie_poster  \n",
       "0  https://an2-img.amz.wtchn.net/image/v2/E8ZdVl5...  \n",
       "1  https://an2-img.amz.wtchn.net/image/v2/alJx8BY...  \n",
       "2  https://an2-img.amz.wtchn.net/image/v2/_8BzRXr...  \n",
       "3  https://an2-img.amz.wtchn.net/image/v2/hsg-TCp...  \n",
       "4  https://an2-img.amz.wtchn.net/image/v2/NdPk_f6...  \n",
       "5  https://an2-img.amz.wtchn.net/image/v2/5CSy5j_...  \n",
       "6  https://an2-img.amz.wtchn.net/image/v2/nPAFcWi...  \n",
       "7  https://an2-img.amz.wtchn.net/image/v2/-a_wFi_...  \n",
       "8  https://an2-img.amz.wtchn.net/image/v2/mPP0dI5...  \n",
       "9  https://an2-img.amz.wtchn.net/image/v2/c3TXrIj...  "
      ]
     },
     "execution_count": 25,
     "metadata": {},
     "output_type": "execute_result"
    }
   ],
   "source": [
    "box_office = pd.DataFrame(bo_list)\n",
    "box_office"
   ]
  },
  {
   "cell_type": "markdown",
   "id": "e0bb60ef",
   "metadata": {},
   "source": [
    "## movie_detail에서 년도, 장르, 국적 분리하기 "
   ]
  },
  {
   "cell_type": "code",
   "execution_count": 26,
   "id": "92b175cd",
   "metadata": {},
   "outputs": [
    {
     "data": {
      "text/html": [
       "<div>\n",
       "<style scoped>\n",
       "    .dataframe tbody tr th:only-of-type {\n",
       "        vertical-align: middle;\n",
       "    }\n",
       "\n",
       "    .dataframe tbody tr th {\n",
       "        vertical-align: top;\n",
       "    }\n",
       "\n",
       "    .dataframe thead th {\n",
       "        text-align: right;\n",
       "    }\n",
       "</style>\n",
       "<table border=\"1\" class=\"dataframe\">\n",
       "  <thead>\n",
       "    <tr style=\"text-align: right;\">\n",
       "      <th></th>\n",
       "      <th>movie_title</th>\n",
       "      <th>movie_desc</th>\n",
       "      <th>movie_rate</th>\n",
       "      <th>movie_poster</th>\n",
       "      <th>movie_year</th>\n",
       "      <th>movie_genre</th>\n",
       "      <th>movie_nation</th>\n",
       "    </tr>\n",
       "  </thead>\n",
       "  <tbody>\n",
       "    <tr>\n",
       "      <th>0</th>\n",
       "      <td>문폴</td>\n",
       "      <td>1969년 인류의 위대한 도전, 달 착륙 성공 2022년 인류 최후의 재난, 달이 ...</td>\n",
       "      <td>평균 ★2.2 (567명)</td>\n",
       "      <td>https://an2-img.amz.wtchn.net/image/v2/E8ZdVl5...</td>\n",
       "      <td>2022</td>\n",
       "      <td>판타지/액션/드라마</td>\n",
       "      <td>캐나다/미국/영국</td>\n",
       "    </tr>\n",
       "    <tr>\n",
       "      <th>1</th>\n",
       "      <td>뜨거운 피</td>\n",
       "      <td>부산 변두리 작은 포구 `구암`의 절대적인 주인 `손영감`(김갑수), 그의 밑에서 ...</td>\n",
       "      <td></td>\n",
       "      <td>https://an2-img.amz.wtchn.net/image/v2/alJx8BY...</td>\n",
       "      <td>2020</td>\n",
       "      <td>범죄/드라마</td>\n",
       "      <td>한국</td>\n",
       "    </tr>\n",
       "    <tr>\n",
       "      <th>2</th>\n",
       "      <td>스펜서</td>\n",
       "      <td>1991년, 왕실 가족이 샌드링엄 별장에 모여서 보내는 크리스마스. 연휴 3일간 이...</td>\n",
       "      <td>평균 ★3.6 (1,456명)</td>\n",
       "      <td>https://an2-img.amz.wtchn.net/image/v2/_8BzRXr...</td>\n",
       "      <td>2021</td>\n",
       "      <td>전기/드라마</td>\n",
       "      <td>영국/독일/미국</td>\n",
       "    </tr>\n",
       "    <tr>\n",
       "      <th>3</th>\n",
       "      <td>이상한 나라의 수학자</td>\n",
       "      <td>“정답보다 중요한 건 답을 찾는 과정이야” 학문의 자유를 갈망하며 탈북한 천재 수학...</td>\n",
       "      <td>평균 ★2.9 (1,712명)</td>\n",
       "      <td>https://an2-img.amz.wtchn.net/image/v2/hsg-TCp...</td>\n",
       "      <td>2020</td>\n",
       "      <td>드라마</td>\n",
       "      <td>한국</td>\n",
       "    </tr>\n",
       "    <tr>\n",
       "      <th>4</th>\n",
       "      <td>더 배트맨</td>\n",
       "      <td>영웅이 될 것인가 악당이 될 것인가 운명을 결정할 선택만이 남았다 지난 2년간 고담...</td>\n",
       "      <td>평균 ★3.5 (2만명)</td>\n",
       "      <td>https://an2-img.amz.wtchn.net/image/v2/NdPk_f6...</td>\n",
       "      <td>2022</td>\n",
       "      <td>액션/범죄/드라마</td>\n",
       "      <td>미국</td>\n",
       "    </tr>\n",
       "    <tr>\n",
       "      <th>5</th>\n",
       "      <td>극장판 주술회전 0</td>\n",
       "      <td>어릴 적 소꿉친구인 오리모토 리카를 교통사고로 눈앞에서 잃은 옷코츠 유타. “약속해...</td>\n",
       "      <td>평균 ★3.8 (3,946명)</td>\n",
       "      <td>https://an2-img.amz.wtchn.net/image/v2/5CSy5j_...</td>\n",
       "      <td>2021</td>\n",
       "      <td>애니메이션/액션/모험</td>\n",
       "      <td>일본</td>\n",
       "    </tr>\n",
       "    <tr>\n",
       "      <th>6</th>\n",
       "      <td>메리 미</td>\n",
       "      <td>선결혼 후연애! 슈퍼스타 X 슈퍼노멀 커플 탄생! 슈퍼스타 `캣 발데즈’는 화려한 ...</td>\n",
       "      <td>평균 ★2.8 (65명)</td>\n",
       "      <td>https://an2-img.amz.wtchn.net/image/v2/nPAFcWi...</td>\n",
       "      <td>2022</td>\n",
       "      <td>로맨스/코미디</td>\n",
       "      <td>미국</td>\n",
       "    </tr>\n",
       "    <tr>\n",
       "      <th>7</th>\n",
       "      <td>도어맨</td>\n",
       "      <td>해병대 복무 중 테러집단의 공격으로 대사와 가족을 잃은 알리(루비 로즈)는 제대 후...</td>\n",
       "      <td>평균 ★2.2 (165명)</td>\n",
       "      <td>https://an2-img.amz.wtchn.net/image/v2/-a_wFi_...</td>\n",
       "      <td>2020</td>\n",
       "      <td>액션/스릴러</td>\n",
       "      <td>미국</td>\n",
       "    </tr>\n",
       "    <tr>\n",
       "      <th>8</th>\n",
       "      <td>하늘의 푸르름을 아는 사람이여</td>\n",
       "      <td>“후회하지 않기 위해, 다시 널 만나러 왔어” ​ 산으로 둘러 싸인 시골 마을, 그...</td>\n",
       "      <td>평균 ★3.2 (365명)</td>\n",
       "      <td>https://an2-img.amz.wtchn.net/image/v2/mPP0dI5...</td>\n",
       "      <td>2019</td>\n",
       "      <td>판타지/로맨스/애니메이션</td>\n",
       "      <td>일본</td>\n",
       "    </tr>\n",
       "    <tr>\n",
       "      <th>9</th>\n",
       "      <td>고양이들의 아파트</td>\n",
       "      <td>서울 동쪽 끝, 거대한 아파트 단지. 그곳은 오래도록 고양이들과 사람들이 함께 마음...</td>\n",
       "      <td>평균 ★3.3 (115명)</td>\n",
       "      <td>https://an2-img.amz.wtchn.net/image/v2/c3TXrIj...</td>\n",
       "      <td>2020</td>\n",
       "      <td>다큐멘터리</td>\n",
       "      <td>한국</td>\n",
       "    </tr>\n",
       "  </tbody>\n",
       "</table>\n",
       "</div>"
      ],
      "text/plain": [
       "        movie_title                                         movie_desc  \\\n",
       "0                문폴  1969년 인류의 위대한 도전, 달 착륙 성공 2022년 인류 최후의 재난, 달이 ...   \n",
       "1             뜨거운 피  부산 변두리 작은 포구 `구암`의 절대적인 주인 `손영감`(김갑수), 그의 밑에서 ...   \n",
       "2               스펜서  1991년, 왕실 가족이 샌드링엄 별장에 모여서 보내는 크리스마스. 연휴 3일간 이...   \n",
       "3       이상한 나라의 수학자  “정답보다 중요한 건 답을 찾는 과정이야” 학문의 자유를 갈망하며 탈북한 천재 수학...   \n",
       "4             더 배트맨  영웅이 될 것인가 악당이 될 것인가 운명을 결정할 선택만이 남았다 지난 2년간 고담...   \n",
       "5        극장판 주술회전 0  어릴 적 소꿉친구인 오리모토 리카를 교통사고로 눈앞에서 잃은 옷코츠 유타. “약속해...   \n",
       "6              메리 미  선결혼 후연애! 슈퍼스타 X 슈퍼노멀 커플 탄생! 슈퍼스타 `캣 발데즈’는 화려한 ...   \n",
       "7               도어맨  해병대 복무 중 테러집단의 공격으로 대사와 가족을 잃은 알리(루비 로즈)는 제대 후...   \n",
       "8  하늘의 푸르름을 아는 사람이여  “후회하지 않기 위해, 다시 널 만나러 왔어” ​ 산으로 둘러 싸인 시골 마을, 그...   \n",
       "9         고양이들의 아파트  서울 동쪽 끝, 거대한 아파트 단지. 그곳은 오래도록 고양이들과 사람들이 함께 마음...   \n",
       "\n",
       "         movie_rate                                       movie_poster  \\\n",
       "0    평균 ★2.2 (567명)  https://an2-img.amz.wtchn.net/image/v2/E8ZdVl5...   \n",
       "1                    https://an2-img.amz.wtchn.net/image/v2/alJx8BY...   \n",
       "2  평균 ★3.6 (1,456명)  https://an2-img.amz.wtchn.net/image/v2/_8BzRXr...   \n",
       "3  평균 ★2.9 (1,712명)  https://an2-img.amz.wtchn.net/image/v2/hsg-TCp...   \n",
       "4     평균 ★3.5 (2만명)  https://an2-img.amz.wtchn.net/image/v2/NdPk_f6...   \n",
       "5  평균 ★3.8 (3,946명)  https://an2-img.amz.wtchn.net/image/v2/5CSy5j_...   \n",
       "6     평균 ★2.8 (65명)  https://an2-img.amz.wtchn.net/image/v2/nPAFcWi...   \n",
       "7    평균 ★2.2 (165명)  https://an2-img.amz.wtchn.net/image/v2/-a_wFi_...   \n",
       "8    평균 ★3.2 (365명)  https://an2-img.amz.wtchn.net/image/v2/mPP0dI5...   \n",
       "9    평균 ★3.3 (115명)  https://an2-img.amz.wtchn.net/image/v2/c3TXrIj...   \n",
       "\n",
       "  movie_year    movie_genre movie_nation  \n",
       "0       2022     판타지/액션/드라마    캐나다/미국/영국  \n",
       "1       2020         범죄/드라마           한국  \n",
       "2       2021         전기/드라마     영국/독일/미국  \n",
       "3       2020            드라마           한국  \n",
       "4       2022      액션/범죄/드라마           미국  \n",
       "5       2021    애니메이션/액션/모험           일본  \n",
       "6       2022        로맨스/코미디           미국  \n",
       "7       2020         액션/스릴러           미국  \n",
       "8       2019  판타지/로맨스/애니메이션           일본  \n",
       "9       2020          다큐멘터리           한국  "
      ]
     },
     "execution_count": 26,
     "metadata": {},
     "output_type": "execute_result"
    }
   ],
   "source": [
    "box_office['movie_year'] = box_office['movie_detail'].apply(lambda x: x.split(\" ・ \")[0])\n",
    "box_office['movie_genre'] = box_office['movie_detail'].apply(lambda x: x.split(\" ・ \")[1])\n",
    "box_office['movie_nation'] = box_office['movie_detail'].apply(lambda x: x.split(\" ・ \")[2])\n",
    "box_office = box_office.drop('movie_detail', axis=1)\n",
    "box_office"
   ]
  },
  {
   "cell_type": "markdown",
   "id": "b1c8e322",
   "metadata": {},
   "source": [
    "## movie_rate에서 평점만 추출하기"
   ]
  },
  {
   "cell_type": "code",
   "execution_count": 27,
   "id": "8f95033c",
   "metadata": {},
   "outputs": [
    {
     "data": {
      "text/html": [
       "<div>\n",
       "<style scoped>\n",
       "    .dataframe tbody tr th:only-of-type {\n",
       "        vertical-align: middle;\n",
       "    }\n",
       "\n",
       "    .dataframe tbody tr th {\n",
       "        vertical-align: top;\n",
       "    }\n",
       "\n",
       "    .dataframe thead th {\n",
       "        text-align: right;\n",
       "    }\n",
       "</style>\n",
       "<table border=\"1\" class=\"dataframe\">\n",
       "  <thead>\n",
       "    <tr style=\"text-align: right;\">\n",
       "      <th></th>\n",
       "      <th>movie_title</th>\n",
       "      <th>movie_desc</th>\n",
       "      <th>movie_rate</th>\n",
       "      <th>movie_poster</th>\n",
       "      <th>movie_year</th>\n",
       "      <th>movie_genre</th>\n",
       "      <th>movie_nation</th>\n",
       "    </tr>\n",
       "  </thead>\n",
       "  <tbody>\n",
       "    <tr>\n",
       "      <th>0</th>\n",
       "      <td>문폴</td>\n",
       "      <td>1969년 인류의 위대한 도전, 달 착륙 성공 2022년 인류 최후의 재난, 달이 ...</td>\n",
       "      <td>[2.2]</td>\n",
       "      <td>https://an2-img.amz.wtchn.net/image/v2/E8ZdVl5...</td>\n",
       "      <td>2022</td>\n",
       "      <td>판타지/액션/드라마</td>\n",
       "      <td>캐나다/미국/영국</td>\n",
       "    </tr>\n",
       "    <tr>\n",
       "      <th>1</th>\n",
       "      <td>뜨거운 피</td>\n",
       "      <td>부산 변두리 작은 포구 `구암`의 절대적인 주인 `손영감`(김갑수), 그의 밑에서 ...</td>\n",
       "      <td>[]</td>\n",
       "      <td>https://an2-img.amz.wtchn.net/image/v2/alJx8BY...</td>\n",
       "      <td>2020</td>\n",
       "      <td>범죄/드라마</td>\n",
       "      <td>한국</td>\n",
       "    </tr>\n",
       "    <tr>\n",
       "      <th>2</th>\n",
       "      <td>스펜서</td>\n",
       "      <td>1991년, 왕실 가족이 샌드링엄 별장에 모여서 보내는 크리스마스. 연휴 3일간 이...</td>\n",
       "      <td>[3.6]</td>\n",
       "      <td>https://an2-img.amz.wtchn.net/image/v2/_8BzRXr...</td>\n",
       "      <td>2021</td>\n",
       "      <td>전기/드라마</td>\n",
       "      <td>영국/독일/미국</td>\n",
       "    </tr>\n",
       "    <tr>\n",
       "      <th>3</th>\n",
       "      <td>이상한 나라의 수학자</td>\n",
       "      <td>“정답보다 중요한 건 답을 찾는 과정이야” 학문의 자유를 갈망하며 탈북한 천재 수학...</td>\n",
       "      <td>[2.9]</td>\n",
       "      <td>https://an2-img.amz.wtchn.net/image/v2/hsg-TCp...</td>\n",
       "      <td>2020</td>\n",
       "      <td>드라마</td>\n",
       "      <td>한국</td>\n",
       "    </tr>\n",
       "    <tr>\n",
       "      <th>4</th>\n",
       "      <td>더 배트맨</td>\n",
       "      <td>영웅이 될 것인가 악당이 될 것인가 운명을 결정할 선택만이 남았다 지난 2년간 고담...</td>\n",
       "      <td>[3.5]</td>\n",
       "      <td>https://an2-img.amz.wtchn.net/image/v2/NdPk_f6...</td>\n",
       "      <td>2022</td>\n",
       "      <td>액션/범죄/드라마</td>\n",
       "      <td>미국</td>\n",
       "    </tr>\n",
       "    <tr>\n",
       "      <th>5</th>\n",
       "      <td>극장판 주술회전 0</td>\n",
       "      <td>어릴 적 소꿉친구인 오리모토 리카를 교통사고로 눈앞에서 잃은 옷코츠 유타. “약속해...</td>\n",
       "      <td>[3.8]</td>\n",
       "      <td>https://an2-img.amz.wtchn.net/image/v2/5CSy5j_...</td>\n",
       "      <td>2021</td>\n",
       "      <td>애니메이션/액션/모험</td>\n",
       "      <td>일본</td>\n",
       "    </tr>\n",
       "    <tr>\n",
       "      <th>6</th>\n",
       "      <td>메리 미</td>\n",
       "      <td>선결혼 후연애! 슈퍼스타 X 슈퍼노멀 커플 탄생! 슈퍼스타 `캣 발데즈’는 화려한 ...</td>\n",
       "      <td>[2.8]</td>\n",
       "      <td>https://an2-img.amz.wtchn.net/image/v2/nPAFcWi...</td>\n",
       "      <td>2022</td>\n",
       "      <td>로맨스/코미디</td>\n",
       "      <td>미국</td>\n",
       "    </tr>\n",
       "    <tr>\n",
       "      <th>7</th>\n",
       "      <td>도어맨</td>\n",
       "      <td>해병대 복무 중 테러집단의 공격으로 대사와 가족을 잃은 알리(루비 로즈)는 제대 후...</td>\n",
       "      <td>[2.2]</td>\n",
       "      <td>https://an2-img.amz.wtchn.net/image/v2/-a_wFi_...</td>\n",
       "      <td>2020</td>\n",
       "      <td>액션/스릴러</td>\n",
       "      <td>미국</td>\n",
       "    </tr>\n",
       "    <tr>\n",
       "      <th>8</th>\n",
       "      <td>하늘의 푸르름을 아는 사람이여</td>\n",
       "      <td>“후회하지 않기 위해, 다시 널 만나러 왔어” ​ 산으로 둘러 싸인 시골 마을, 그...</td>\n",
       "      <td>[3.2]</td>\n",
       "      <td>https://an2-img.amz.wtchn.net/image/v2/mPP0dI5...</td>\n",
       "      <td>2019</td>\n",
       "      <td>판타지/로맨스/애니메이션</td>\n",
       "      <td>일본</td>\n",
       "    </tr>\n",
       "    <tr>\n",
       "      <th>9</th>\n",
       "      <td>고양이들의 아파트</td>\n",
       "      <td>서울 동쪽 끝, 거대한 아파트 단지. 그곳은 오래도록 고양이들과 사람들이 함께 마음...</td>\n",
       "      <td>[3.3]</td>\n",
       "      <td>https://an2-img.amz.wtchn.net/image/v2/c3TXrIj...</td>\n",
       "      <td>2020</td>\n",
       "      <td>다큐멘터리</td>\n",
       "      <td>한국</td>\n",
       "    </tr>\n",
       "  </tbody>\n",
       "</table>\n",
       "</div>"
      ],
      "text/plain": [
       "        movie_title                                         movie_desc  \\\n",
       "0                문폴  1969년 인류의 위대한 도전, 달 착륙 성공 2022년 인류 최후의 재난, 달이 ...   \n",
       "1             뜨거운 피  부산 변두리 작은 포구 `구암`의 절대적인 주인 `손영감`(김갑수), 그의 밑에서 ...   \n",
       "2               스펜서  1991년, 왕실 가족이 샌드링엄 별장에 모여서 보내는 크리스마스. 연휴 3일간 이...   \n",
       "3       이상한 나라의 수학자  “정답보다 중요한 건 답을 찾는 과정이야” 학문의 자유를 갈망하며 탈북한 천재 수학...   \n",
       "4             더 배트맨  영웅이 될 것인가 악당이 될 것인가 운명을 결정할 선택만이 남았다 지난 2년간 고담...   \n",
       "5        극장판 주술회전 0  어릴 적 소꿉친구인 오리모토 리카를 교통사고로 눈앞에서 잃은 옷코츠 유타. “약속해...   \n",
       "6              메리 미  선결혼 후연애! 슈퍼스타 X 슈퍼노멀 커플 탄생! 슈퍼스타 `캣 발데즈’는 화려한 ...   \n",
       "7               도어맨  해병대 복무 중 테러집단의 공격으로 대사와 가족을 잃은 알리(루비 로즈)는 제대 후...   \n",
       "8  하늘의 푸르름을 아는 사람이여  “후회하지 않기 위해, 다시 널 만나러 왔어” ​ 산으로 둘러 싸인 시골 마을, 그...   \n",
       "9         고양이들의 아파트  서울 동쪽 끝, 거대한 아파트 단지. 그곳은 오래도록 고양이들과 사람들이 함께 마음...   \n",
       "\n",
       "  movie_rate                                       movie_poster movie_year  \\\n",
       "0      [2.2]  https://an2-img.amz.wtchn.net/image/v2/E8ZdVl5...       2022   \n",
       "1         []  https://an2-img.amz.wtchn.net/image/v2/alJx8BY...       2020   \n",
       "2      [3.6]  https://an2-img.amz.wtchn.net/image/v2/_8BzRXr...       2021   \n",
       "3      [2.9]  https://an2-img.amz.wtchn.net/image/v2/hsg-TCp...       2020   \n",
       "4      [3.5]  https://an2-img.amz.wtchn.net/image/v2/NdPk_f6...       2022   \n",
       "5      [3.8]  https://an2-img.amz.wtchn.net/image/v2/5CSy5j_...       2021   \n",
       "6      [2.8]  https://an2-img.amz.wtchn.net/image/v2/nPAFcWi...       2022   \n",
       "7      [2.2]  https://an2-img.amz.wtchn.net/image/v2/-a_wFi_...       2020   \n",
       "8      [3.2]  https://an2-img.amz.wtchn.net/image/v2/mPP0dI5...       2019   \n",
       "9      [3.3]  https://an2-img.amz.wtchn.net/image/v2/c3TXrIj...       2020   \n",
       "\n",
       "     movie_genre movie_nation  \n",
       "0     판타지/액션/드라마    캐나다/미국/영국  \n",
       "1         범죄/드라마           한국  \n",
       "2         전기/드라마     영국/독일/미국  \n",
       "3            드라마           한국  \n",
       "4      액션/범죄/드라마           미국  \n",
       "5    애니메이션/액션/모험           일본  \n",
       "6        로맨스/코미디           미국  \n",
       "7         액션/스릴러           미국  \n",
       "8  판타지/로맨스/애니메이션           일본  \n",
       "9          다큐멘터리           한국  "
      ]
     },
     "execution_count": 27,
     "metadata": {},
     "output_type": "execute_result"
    }
   ],
   "source": [
    "box_office['movie_rate'] = box_office['movie_rate'].str.findall(\"\\d+\\.\\d+\") # 정규표현식. 언젠가 다룰 예정.\n",
    "box_office"
   ]
  },
  {
   "cell_type": "code",
   "execution_count": 28,
   "id": "bc4a578e",
   "metadata": {},
   "outputs": [
    {
     "data": {
      "text/html": [
       "<div>\n",
       "<style scoped>\n",
       "    .dataframe tbody tr th:only-of-type {\n",
       "        vertical-align: middle;\n",
       "    }\n",
       "\n",
       "    .dataframe tbody tr th {\n",
       "        vertical-align: top;\n",
       "    }\n",
       "\n",
       "    .dataframe thead th {\n",
       "        text-align: right;\n",
       "    }\n",
       "</style>\n",
       "<table border=\"1\" class=\"dataframe\">\n",
       "  <thead>\n",
       "    <tr style=\"text-align: right;\">\n",
       "      <th></th>\n",
       "      <th>movie_title</th>\n",
       "      <th>movie_desc</th>\n",
       "      <th>movie_rate</th>\n",
       "      <th>movie_poster</th>\n",
       "      <th>movie_year</th>\n",
       "      <th>movie_genre</th>\n",
       "      <th>movie_nation</th>\n",
       "    </tr>\n",
       "  </thead>\n",
       "  <tbody>\n",
       "    <tr>\n",
       "      <th>0</th>\n",
       "      <td>문폴</td>\n",
       "      <td>1969년 인류의 위대한 도전, 달 착륙 성공 2022년 인류 최후의 재난, 달이 ...</td>\n",
       "      <td>2.2</td>\n",
       "      <td>https://an2-img.amz.wtchn.net/image/v2/E8ZdVl5...</td>\n",
       "      <td>2022</td>\n",
       "      <td>판타지/액션/드라마</td>\n",
       "      <td>캐나다/미국/영국</td>\n",
       "    </tr>\n",
       "    <tr>\n",
       "      <th>1</th>\n",
       "      <td>뜨거운 피</td>\n",
       "      <td>부산 변두리 작은 포구 `구암`의 절대적인 주인 `손영감`(김갑수), 그의 밑에서 ...</td>\n",
       "      <td>None</td>\n",
       "      <td>https://an2-img.amz.wtchn.net/image/v2/alJx8BY...</td>\n",
       "      <td>2020</td>\n",
       "      <td>범죄/드라마</td>\n",
       "      <td>한국</td>\n",
       "    </tr>\n",
       "    <tr>\n",
       "      <th>2</th>\n",
       "      <td>스펜서</td>\n",
       "      <td>1991년, 왕실 가족이 샌드링엄 별장에 모여서 보내는 크리스마스. 연휴 3일간 이...</td>\n",
       "      <td>3.6</td>\n",
       "      <td>https://an2-img.amz.wtchn.net/image/v2/_8BzRXr...</td>\n",
       "      <td>2021</td>\n",
       "      <td>전기/드라마</td>\n",
       "      <td>영국/독일/미국</td>\n",
       "    </tr>\n",
       "    <tr>\n",
       "      <th>3</th>\n",
       "      <td>이상한 나라의 수학자</td>\n",
       "      <td>“정답보다 중요한 건 답을 찾는 과정이야” 학문의 자유를 갈망하며 탈북한 천재 수학...</td>\n",
       "      <td>2.9</td>\n",
       "      <td>https://an2-img.amz.wtchn.net/image/v2/hsg-TCp...</td>\n",
       "      <td>2020</td>\n",
       "      <td>드라마</td>\n",
       "      <td>한국</td>\n",
       "    </tr>\n",
       "    <tr>\n",
       "      <th>4</th>\n",
       "      <td>더 배트맨</td>\n",
       "      <td>영웅이 될 것인가 악당이 될 것인가 운명을 결정할 선택만이 남았다 지난 2년간 고담...</td>\n",
       "      <td>3.5</td>\n",
       "      <td>https://an2-img.amz.wtchn.net/image/v2/NdPk_f6...</td>\n",
       "      <td>2022</td>\n",
       "      <td>액션/범죄/드라마</td>\n",
       "      <td>미국</td>\n",
       "    </tr>\n",
       "    <tr>\n",
       "      <th>5</th>\n",
       "      <td>극장판 주술회전 0</td>\n",
       "      <td>어릴 적 소꿉친구인 오리모토 리카를 교통사고로 눈앞에서 잃은 옷코츠 유타. “약속해...</td>\n",
       "      <td>3.8</td>\n",
       "      <td>https://an2-img.amz.wtchn.net/image/v2/5CSy5j_...</td>\n",
       "      <td>2021</td>\n",
       "      <td>애니메이션/액션/모험</td>\n",
       "      <td>일본</td>\n",
       "    </tr>\n",
       "    <tr>\n",
       "      <th>6</th>\n",
       "      <td>메리 미</td>\n",
       "      <td>선결혼 후연애! 슈퍼스타 X 슈퍼노멀 커플 탄생! 슈퍼스타 `캣 발데즈’는 화려한 ...</td>\n",
       "      <td>2.8</td>\n",
       "      <td>https://an2-img.amz.wtchn.net/image/v2/nPAFcWi...</td>\n",
       "      <td>2022</td>\n",
       "      <td>로맨스/코미디</td>\n",
       "      <td>미국</td>\n",
       "    </tr>\n",
       "    <tr>\n",
       "      <th>7</th>\n",
       "      <td>도어맨</td>\n",
       "      <td>해병대 복무 중 테러집단의 공격으로 대사와 가족을 잃은 알리(루비 로즈)는 제대 후...</td>\n",
       "      <td>2.2</td>\n",
       "      <td>https://an2-img.amz.wtchn.net/image/v2/-a_wFi_...</td>\n",
       "      <td>2020</td>\n",
       "      <td>액션/스릴러</td>\n",
       "      <td>미국</td>\n",
       "    </tr>\n",
       "    <tr>\n",
       "      <th>8</th>\n",
       "      <td>하늘의 푸르름을 아는 사람이여</td>\n",
       "      <td>“후회하지 않기 위해, 다시 널 만나러 왔어” ​ 산으로 둘러 싸인 시골 마을, 그...</td>\n",
       "      <td>3.2</td>\n",
       "      <td>https://an2-img.amz.wtchn.net/image/v2/mPP0dI5...</td>\n",
       "      <td>2019</td>\n",
       "      <td>판타지/로맨스/애니메이션</td>\n",
       "      <td>일본</td>\n",
       "    </tr>\n",
       "    <tr>\n",
       "      <th>9</th>\n",
       "      <td>고양이들의 아파트</td>\n",
       "      <td>서울 동쪽 끝, 거대한 아파트 단지. 그곳은 오래도록 고양이들과 사람들이 함께 마음...</td>\n",
       "      <td>3.3</td>\n",
       "      <td>https://an2-img.amz.wtchn.net/image/v2/c3TXrIj...</td>\n",
       "      <td>2020</td>\n",
       "      <td>다큐멘터리</td>\n",
       "      <td>한국</td>\n",
       "    </tr>\n",
       "  </tbody>\n",
       "</table>\n",
       "</div>"
      ],
      "text/plain": [
       "        movie_title                                         movie_desc  \\\n",
       "0                문폴  1969년 인류의 위대한 도전, 달 착륙 성공 2022년 인류 최후의 재난, 달이 ...   \n",
       "1             뜨거운 피  부산 변두리 작은 포구 `구암`의 절대적인 주인 `손영감`(김갑수), 그의 밑에서 ...   \n",
       "2               스펜서  1991년, 왕실 가족이 샌드링엄 별장에 모여서 보내는 크리스마스. 연휴 3일간 이...   \n",
       "3       이상한 나라의 수학자  “정답보다 중요한 건 답을 찾는 과정이야” 학문의 자유를 갈망하며 탈북한 천재 수학...   \n",
       "4             더 배트맨  영웅이 될 것인가 악당이 될 것인가 운명을 결정할 선택만이 남았다 지난 2년간 고담...   \n",
       "5        극장판 주술회전 0  어릴 적 소꿉친구인 오리모토 리카를 교통사고로 눈앞에서 잃은 옷코츠 유타. “약속해...   \n",
       "6              메리 미  선결혼 후연애! 슈퍼스타 X 슈퍼노멀 커플 탄생! 슈퍼스타 `캣 발데즈’는 화려한 ...   \n",
       "7               도어맨  해병대 복무 중 테러집단의 공격으로 대사와 가족을 잃은 알리(루비 로즈)는 제대 후...   \n",
       "8  하늘의 푸르름을 아는 사람이여  “후회하지 않기 위해, 다시 널 만나러 왔어” ​ 산으로 둘러 싸인 시골 마을, 그...   \n",
       "9         고양이들의 아파트  서울 동쪽 끝, 거대한 아파트 단지. 그곳은 오래도록 고양이들과 사람들이 함께 마음...   \n",
       "\n",
       "  movie_rate                                       movie_poster movie_year  \\\n",
       "0        2.2  https://an2-img.amz.wtchn.net/image/v2/E8ZdVl5...       2022   \n",
       "1       None  https://an2-img.amz.wtchn.net/image/v2/alJx8BY...       2020   \n",
       "2        3.6  https://an2-img.amz.wtchn.net/image/v2/_8BzRXr...       2021   \n",
       "3        2.9  https://an2-img.amz.wtchn.net/image/v2/hsg-TCp...       2020   \n",
       "4        3.5  https://an2-img.amz.wtchn.net/image/v2/NdPk_f6...       2022   \n",
       "5        3.8  https://an2-img.amz.wtchn.net/image/v2/5CSy5j_...       2021   \n",
       "6        2.8  https://an2-img.amz.wtchn.net/image/v2/nPAFcWi...       2022   \n",
       "7        2.2  https://an2-img.amz.wtchn.net/image/v2/-a_wFi_...       2020   \n",
       "8        3.2  https://an2-img.amz.wtchn.net/image/v2/mPP0dI5...       2019   \n",
       "9        3.3  https://an2-img.amz.wtchn.net/image/v2/c3TXrIj...       2020   \n",
       "\n",
       "     movie_genre movie_nation  \n",
       "0     판타지/액션/드라마    캐나다/미국/영국  \n",
       "1         범죄/드라마           한국  \n",
       "2         전기/드라마     영국/독일/미국  \n",
       "3            드라마           한국  \n",
       "4      액션/범죄/드라마           미국  \n",
       "5    애니메이션/액션/모험           일본  \n",
       "6        로맨스/코미디           미국  \n",
       "7         액션/스릴러           미국  \n",
       "8  판타지/로맨스/애니메이션           일본  \n",
       "9          다큐멘터리           한국  "
      ]
     },
     "execution_count": 28,
     "metadata": {},
     "output_type": "execute_result"
    }
   ],
   "source": [
    "box_office['movie_rate'] = box_office['movie_rate'].apply(lambda x: x[0] if x != [] else None) # 삼항 연산자 설명\n",
    "box_office"
   ]
  },
  {
   "cell_type": "markdown",
   "id": "e4bf34f2",
   "metadata": {},
   "source": [
    "## 파일로 저장하기"
   ]
  },
  {
   "cell_type": "code",
   "execution_count": null,
   "id": "971b12f2",
   "metadata": {},
   "outputs": [],
   "source": [
    "box_office.to_csv(\"box_office.csv\", index=False)"
   ]
  },
  {
   "cell_type": "code",
   "execution_count": null,
   "id": "a4fa5ba1",
   "metadata": {},
   "outputs": [],
   "source": [
    "box_office.to_excel(\"box_office.xlsx\", index=False)"
   ]
  },
  {
   "cell_type": "markdown",
   "id": "4cc15dc4",
   "metadata": {},
   "source": [
    "## 파일 불러오기"
   ]
  },
  {
   "cell_type": "code",
   "execution_count": 31,
   "id": "3a8c0110",
   "metadata": {},
   "outputs": [
    {
     "ename": "FileNotFoundError",
     "evalue": "[Errno 2] No such file or directory: 'box_office.csv'",
     "output_type": "error",
     "traceback": [
      "\u001b[1;31m---------------------------------------------------------------------------\u001b[0m",
      "\u001b[1;31mFileNotFoundError\u001b[0m                         Traceback (most recent call last)",
      "\u001b[1;32m~\\AppData\\Local\\Temp/ipykernel_14988/2267053968.py\u001b[0m in \u001b[0;36m<module>\u001b[1;34m\u001b[0m\n\u001b[1;32m----> 1\u001b[1;33m \u001b[0mbodf\u001b[0m \u001b[1;33m=\u001b[0m \u001b[0mpd\u001b[0m\u001b[1;33m.\u001b[0m\u001b[0mread_csv\u001b[0m\u001b[1;33m(\u001b[0m\u001b[1;34m'box_office.csv'\u001b[0m\u001b[1;33m)\u001b[0m\u001b[1;33m\u001b[0m\u001b[1;33m\u001b[0m\u001b[0m\n\u001b[0m",
      "\u001b[1;32m~\\anaconda3\\lib\\site-packages\\pandas\\util\\_decorators.py\u001b[0m in \u001b[0;36mwrapper\u001b[1;34m(*args, **kwargs)\u001b[0m\n\u001b[0;32m    309\u001b[0m                     \u001b[0mstacklevel\u001b[0m\u001b[1;33m=\u001b[0m\u001b[0mstacklevel\u001b[0m\u001b[1;33m,\u001b[0m\u001b[1;33m\u001b[0m\u001b[1;33m\u001b[0m\u001b[0m\n\u001b[0;32m    310\u001b[0m                 )\n\u001b[1;32m--> 311\u001b[1;33m             \u001b[1;32mreturn\u001b[0m \u001b[0mfunc\u001b[0m\u001b[1;33m(\u001b[0m\u001b[1;33m*\u001b[0m\u001b[0margs\u001b[0m\u001b[1;33m,\u001b[0m \u001b[1;33m**\u001b[0m\u001b[0mkwargs\u001b[0m\u001b[1;33m)\u001b[0m\u001b[1;33m\u001b[0m\u001b[1;33m\u001b[0m\u001b[0m\n\u001b[0m\u001b[0;32m    312\u001b[0m \u001b[1;33m\u001b[0m\u001b[0m\n\u001b[0;32m    313\u001b[0m         \u001b[1;32mreturn\u001b[0m \u001b[0mwrapper\u001b[0m\u001b[1;33m\u001b[0m\u001b[1;33m\u001b[0m\u001b[0m\n",
      "\u001b[1;32m~\\anaconda3\\lib\\site-packages\\pandas\\io\\parsers\\readers.py\u001b[0m in \u001b[0;36mread_csv\u001b[1;34m(filepath_or_buffer, sep, delimiter, header, names, index_col, usecols, squeeze, prefix, mangle_dupe_cols, dtype, engine, converters, true_values, false_values, skipinitialspace, skiprows, skipfooter, nrows, na_values, keep_default_na, na_filter, verbose, skip_blank_lines, parse_dates, infer_datetime_format, keep_date_col, date_parser, dayfirst, cache_dates, iterator, chunksize, compression, thousands, decimal, lineterminator, quotechar, quoting, doublequote, escapechar, comment, encoding, encoding_errors, dialect, error_bad_lines, warn_bad_lines, on_bad_lines, delim_whitespace, low_memory, memory_map, float_precision, storage_options)\u001b[0m\n\u001b[0;32m    584\u001b[0m     \u001b[0mkwds\u001b[0m\u001b[1;33m.\u001b[0m\u001b[0mupdate\u001b[0m\u001b[1;33m(\u001b[0m\u001b[0mkwds_defaults\u001b[0m\u001b[1;33m)\u001b[0m\u001b[1;33m\u001b[0m\u001b[1;33m\u001b[0m\u001b[0m\n\u001b[0;32m    585\u001b[0m \u001b[1;33m\u001b[0m\u001b[0m\n\u001b[1;32m--> 586\u001b[1;33m     \u001b[1;32mreturn\u001b[0m \u001b[0m_read\u001b[0m\u001b[1;33m(\u001b[0m\u001b[0mfilepath_or_buffer\u001b[0m\u001b[1;33m,\u001b[0m \u001b[0mkwds\u001b[0m\u001b[1;33m)\u001b[0m\u001b[1;33m\u001b[0m\u001b[1;33m\u001b[0m\u001b[0m\n\u001b[0m\u001b[0;32m    587\u001b[0m \u001b[1;33m\u001b[0m\u001b[0m\n\u001b[0;32m    588\u001b[0m \u001b[1;33m\u001b[0m\u001b[0m\n",
      "\u001b[1;32m~\\anaconda3\\lib\\site-packages\\pandas\\io\\parsers\\readers.py\u001b[0m in \u001b[0;36m_read\u001b[1;34m(filepath_or_buffer, kwds)\u001b[0m\n\u001b[0;32m    480\u001b[0m \u001b[1;33m\u001b[0m\u001b[0m\n\u001b[0;32m    481\u001b[0m     \u001b[1;31m# Create the parser.\u001b[0m\u001b[1;33m\u001b[0m\u001b[1;33m\u001b[0m\u001b[0m\n\u001b[1;32m--> 482\u001b[1;33m     \u001b[0mparser\u001b[0m \u001b[1;33m=\u001b[0m \u001b[0mTextFileReader\u001b[0m\u001b[1;33m(\u001b[0m\u001b[0mfilepath_or_buffer\u001b[0m\u001b[1;33m,\u001b[0m \u001b[1;33m**\u001b[0m\u001b[0mkwds\u001b[0m\u001b[1;33m)\u001b[0m\u001b[1;33m\u001b[0m\u001b[1;33m\u001b[0m\u001b[0m\n\u001b[0m\u001b[0;32m    483\u001b[0m \u001b[1;33m\u001b[0m\u001b[0m\n\u001b[0;32m    484\u001b[0m     \u001b[1;32mif\u001b[0m \u001b[0mchunksize\u001b[0m \u001b[1;32mor\u001b[0m \u001b[0miterator\u001b[0m\u001b[1;33m:\u001b[0m\u001b[1;33m\u001b[0m\u001b[1;33m\u001b[0m\u001b[0m\n",
      "\u001b[1;32m~\\anaconda3\\lib\\site-packages\\pandas\\io\\parsers\\readers.py\u001b[0m in \u001b[0;36m__init__\u001b[1;34m(self, f, engine, **kwds)\u001b[0m\n\u001b[0;32m    809\u001b[0m             \u001b[0mself\u001b[0m\u001b[1;33m.\u001b[0m\u001b[0moptions\u001b[0m\u001b[1;33m[\u001b[0m\u001b[1;34m\"has_index_names\"\u001b[0m\u001b[1;33m]\u001b[0m \u001b[1;33m=\u001b[0m \u001b[0mkwds\u001b[0m\u001b[1;33m[\u001b[0m\u001b[1;34m\"has_index_names\"\u001b[0m\u001b[1;33m]\u001b[0m\u001b[1;33m\u001b[0m\u001b[1;33m\u001b[0m\u001b[0m\n\u001b[0;32m    810\u001b[0m \u001b[1;33m\u001b[0m\u001b[0m\n\u001b[1;32m--> 811\u001b[1;33m         \u001b[0mself\u001b[0m\u001b[1;33m.\u001b[0m\u001b[0m_engine\u001b[0m \u001b[1;33m=\u001b[0m \u001b[0mself\u001b[0m\u001b[1;33m.\u001b[0m\u001b[0m_make_engine\u001b[0m\u001b[1;33m(\u001b[0m\u001b[0mself\u001b[0m\u001b[1;33m.\u001b[0m\u001b[0mengine\u001b[0m\u001b[1;33m)\u001b[0m\u001b[1;33m\u001b[0m\u001b[1;33m\u001b[0m\u001b[0m\n\u001b[0m\u001b[0;32m    812\u001b[0m \u001b[1;33m\u001b[0m\u001b[0m\n\u001b[0;32m    813\u001b[0m     \u001b[1;32mdef\u001b[0m \u001b[0mclose\u001b[0m\u001b[1;33m(\u001b[0m\u001b[0mself\u001b[0m\u001b[1;33m)\u001b[0m\u001b[1;33m:\u001b[0m\u001b[1;33m\u001b[0m\u001b[1;33m\u001b[0m\u001b[0m\n",
      "\u001b[1;32m~\\anaconda3\\lib\\site-packages\\pandas\\io\\parsers\\readers.py\u001b[0m in \u001b[0;36m_make_engine\u001b[1;34m(self, engine)\u001b[0m\n\u001b[0;32m   1038\u001b[0m             )\n\u001b[0;32m   1039\u001b[0m         \u001b[1;31m# error: Too many arguments for \"ParserBase\"\u001b[0m\u001b[1;33m\u001b[0m\u001b[1;33m\u001b[0m\u001b[0m\n\u001b[1;32m-> 1040\u001b[1;33m         \u001b[1;32mreturn\u001b[0m \u001b[0mmapping\u001b[0m\u001b[1;33m[\u001b[0m\u001b[0mengine\u001b[0m\u001b[1;33m]\u001b[0m\u001b[1;33m(\u001b[0m\u001b[0mself\u001b[0m\u001b[1;33m.\u001b[0m\u001b[0mf\u001b[0m\u001b[1;33m,\u001b[0m \u001b[1;33m**\u001b[0m\u001b[0mself\u001b[0m\u001b[1;33m.\u001b[0m\u001b[0moptions\u001b[0m\u001b[1;33m)\u001b[0m  \u001b[1;31m# type: ignore[call-arg]\u001b[0m\u001b[1;33m\u001b[0m\u001b[1;33m\u001b[0m\u001b[0m\n\u001b[0m\u001b[0;32m   1041\u001b[0m \u001b[1;33m\u001b[0m\u001b[0m\n\u001b[0;32m   1042\u001b[0m     \u001b[1;32mdef\u001b[0m \u001b[0m_failover_to_python\u001b[0m\u001b[1;33m(\u001b[0m\u001b[0mself\u001b[0m\u001b[1;33m)\u001b[0m\u001b[1;33m:\u001b[0m\u001b[1;33m\u001b[0m\u001b[1;33m\u001b[0m\u001b[0m\n",
      "\u001b[1;32m~\\anaconda3\\lib\\site-packages\\pandas\\io\\parsers\\c_parser_wrapper.py\u001b[0m in \u001b[0;36m__init__\u001b[1;34m(self, src, **kwds)\u001b[0m\n\u001b[0;32m     49\u001b[0m \u001b[1;33m\u001b[0m\u001b[0m\n\u001b[0;32m     50\u001b[0m         \u001b[1;31m# open handles\u001b[0m\u001b[1;33m\u001b[0m\u001b[1;33m\u001b[0m\u001b[0m\n\u001b[1;32m---> 51\u001b[1;33m         \u001b[0mself\u001b[0m\u001b[1;33m.\u001b[0m\u001b[0m_open_handles\u001b[0m\u001b[1;33m(\u001b[0m\u001b[0msrc\u001b[0m\u001b[1;33m,\u001b[0m \u001b[0mkwds\u001b[0m\u001b[1;33m)\u001b[0m\u001b[1;33m\u001b[0m\u001b[1;33m\u001b[0m\u001b[0m\n\u001b[0m\u001b[0;32m     52\u001b[0m         \u001b[1;32massert\u001b[0m \u001b[0mself\u001b[0m\u001b[1;33m.\u001b[0m\u001b[0mhandles\u001b[0m \u001b[1;32mis\u001b[0m \u001b[1;32mnot\u001b[0m \u001b[1;32mNone\u001b[0m\u001b[1;33m\u001b[0m\u001b[1;33m\u001b[0m\u001b[0m\n\u001b[0;32m     53\u001b[0m \u001b[1;33m\u001b[0m\u001b[0m\n",
      "\u001b[1;32m~\\anaconda3\\lib\\site-packages\\pandas\\io\\parsers\\base_parser.py\u001b[0m in \u001b[0;36m_open_handles\u001b[1;34m(self, src, kwds)\u001b[0m\n\u001b[0;32m    220\u001b[0m         \u001b[0mLet\u001b[0m \u001b[0mthe\u001b[0m \u001b[0mreaders\u001b[0m \u001b[0mopen\u001b[0m \u001b[0mIOHandles\u001b[0m \u001b[0mafter\u001b[0m \u001b[0mthey\u001b[0m \u001b[0mare\u001b[0m \u001b[0mdone\u001b[0m \u001b[1;32mwith\u001b[0m \u001b[0mtheir\u001b[0m \u001b[0mpotential\u001b[0m \u001b[0mraises\u001b[0m\u001b[1;33m.\u001b[0m\u001b[1;33m\u001b[0m\u001b[1;33m\u001b[0m\u001b[0m\n\u001b[0;32m    221\u001b[0m         \"\"\"\n\u001b[1;32m--> 222\u001b[1;33m         self.handles = get_handle(\n\u001b[0m\u001b[0;32m    223\u001b[0m             \u001b[0msrc\u001b[0m\u001b[1;33m,\u001b[0m\u001b[1;33m\u001b[0m\u001b[1;33m\u001b[0m\u001b[0m\n\u001b[0;32m    224\u001b[0m             \u001b[1;34m\"r\"\u001b[0m\u001b[1;33m,\u001b[0m\u001b[1;33m\u001b[0m\u001b[1;33m\u001b[0m\u001b[0m\n",
      "\u001b[1;32m~\\anaconda3\\lib\\site-packages\\pandas\\io\\common.py\u001b[0m in \u001b[0;36mget_handle\u001b[1;34m(path_or_buf, mode, encoding, compression, memory_map, is_text, errors, storage_options)\u001b[0m\n\u001b[0;32m    700\u001b[0m         \u001b[1;32mif\u001b[0m \u001b[0mioargs\u001b[0m\u001b[1;33m.\u001b[0m\u001b[0mencoding\u001b[0m \u001b[1;32mand\u001b[0m \u001b[1;34m\"b\"\u001b[0m \u001b[1;32mnot\u001b[0m \u001b[1;32min\u001b[0m \u001b[0mioargs\u001b[0m\u001b[1;33m.\u001b[0m\u001b[0mmode\u001b[0m\u001b[1;33m:\u001b[0m\u001b[1;33m\u001b[0m\u001b[1;33m\u001b[0m\u001b[0m\n\u001b[0;32m    701\u001b[0m             \u001b[1;31m# Encoding\u001b[0m\u001b[1;33m\u001b[0m\u001b[1;33m\u001b[0m\u001b[0m\n\u001b[1;32m--> 702\u001b[1;33m             handle = open(\n\u001b[0m\u001b[0;32m    703\u001b[0m                 \u001b[0mhandle\u001b[0m\u001b[1;33m,\u001b[0m\u001b[1;33m\u001b[0m\u001b[1;33m\u001b[0m\u001b[0m\n\u001b[0;32m    704\u001b[0m                 \u001b[0mioargs\u001b[0m\u001b[1;33m.\u001b[0m\u001b[0mmode\u001b[0m\u001b[1;33m,\u001b[0m\u001b[1;33m\u001b[0m\u001b[1;33m\u001b[0m\u001b[0m\n",
      "\u001b[1;31mFileNotFoundError\u001b[0m: [Errno 2] No such file or directory: 'box_office.csv'"
     ]
    }
   ],
   "source": [
    "bodf = pd.read_csv('box_office.csv')"
   ]
  },
  {
   "cell_type": "markdown",
   "id": "67840bae",
   "metadata": {},
   "source": [
    "## 폰트 설정하기"
   ]
  },
  {
   "cell_type": "code",
   "execution_count": 29,
   "id": "02c5a9a0",
   "metadata": {},
   "outputs": [],
   "source": [
    "# 운영체제별 한글 폰트 설정\n",
    "import platform\n",
    "import matplotlib.pyplot as plt\n",
    "if platform.system() == 'Darwin': # Mac 환경 폰트 설정\n",
    "    plt.rc('font', family='AppleGothic')\n",
    "elif platform.system() == 'Windows': # Windows 환경 폰트 설정\n",
    "    plt.rc('font', family='Malgun Gothic')"
   ]
  },
  {
   "cell_type": "markdown",
   "id": "4929616a",
   "metadata": {},
   "source": [
    "## 영화별 평점 Bar plot 그리기"
   ]
  },
  {
   "cell_type": "code",
   "execution_count": 30,
   "id": "94725c87",
   "metadata": {},
   "outputs": [
    {
     "ename": "NameError",
     "evalue": "name 'bodf' is not defined",
     "output_type": "error",
     "traceback": [
      "\u001b[1;31m---------------------------------------------------------------------------\u001b[0m",
      "\u001b[1;31mNameError\u001b[0m                                 Traceback (most recent call last)",
      "\u001b[1;32m~\\AppData\\Local\\Temp/ipykernel_14988/428021536.py\u001b[0m in \u001b[0;36m<module>\u001b[1;34m\u001b[0m\n\u001b[1;32m----> 1\u001b[1;33m \u001b[0mbodf\u001b[0m\u001b[1;33m.\u001b[0m\u001b[0mplot\u001b[0m\u001b[1;33m.\u001b[0m\u001b[0mbar\u001b[0m\u001b[1;33m(\u001b[0m\u001b[0mx\u001b[0m\u001b[1;33m=\u001b[0m\u001b[1;34m'movie_title'\u001b[0m\u001b[1;33m,\u001b[0m\u001b[0my\u001b[0m\u001b[1;33m=\u001b[0m\u001b[1;34m'movie_rate'\u001b[0m\u001b[1;33m)\u001b[0m\u001b[1;33m\u001b[0m\u001b[1;33m\u001b[0m\u001b[0m\n\u001b[0m",
      "\u001b[1;31mNameError\u001b[0m: name 'bodf' is not defined"
     ]
    }
   ],
   "source": [
    "bodf.plot.bar(x='movie_title',y='movie_rate')"
   ]
  },
  {
   "cell_type": "markdown",
   "id": "e3a0dfc8",
   "metadata": {},
   "source": [
    "## 인스타그램은 어떻게 크롤링할까?"
   ]
  },
  {
   "cell_type": "markdown",
   "id": "ca250c91",
   "metadata": {},
   "source": [
    "### Selenium chrome driver 설치하기 [Chrome driver 다운로드](https://sites.google.com/chromium.org/driver/)\n",
    "#### Windows : C:\\Windows 에 넣기\n",
    "#### Mac : /usr/local/bin 에 넣기"
   ]
  },
  {
   "cell_type": "code",
   "execution_count": 1,
   "id": "607ce7e1",
   "metadata": {},
   "outputs": [
    {
     "name": "stderr",
     "output_type": "stream",
     "text": [
      "C:\\Users\\82104\\AppData\\Local\\Temp/ipykernel_5764/4292658407.py:7: DeprecationWarning: use options instead of chrome_options\n",
      "  driver = webdriver.Chrome(chrome_options=chrome_options)\n"
     ]
    }
   ],
   "source": [
    "from selenium import webdriver\n",
    "from selenium.webdriver.common.by import By\n",
    "import os\n",
    "chrome_options = webdriver.ChromeOptions()\n",
    "# 브라우저에 임의로 User-agent 옵션을 넣어 Python 코드로 접속함을 숨김\n",
    "chrome_options.add_argument('--user-agent=\"Mozilla/5.0 (Macintosh; Intel Mac OS X 10_13_4) AppleWebKit/537.36 (KHTML, like Gecko) Chrome/66.0.3359.139 Safari/537.36\"')\n",
    "driver = webdriver.Chrome(chrome_options=chrome_options)\n",
    "URL = \"https://www.instagram.com/\""
   ]
  },
  {
   "cell_type": "code",
   "execution_count": 11,
   "id": "fad057b6",
   "metadata": {},
   "outputs": [],
   "source": [
    "driver.get(URL)"
   ]
  },
  {
   "cell_type": "code",
   "execution_count": 9,
   "id": "64798fd0",
   "metadata": {},
   "outputs": [],
   "source": [
    "import login_info"
   ]
  },
  {
   "cell_type": "code",
   "execution_count": 10,
   "id": "32e5728a",
   "metadata": {},
   "outputs": [],
   "source": [
    "ID = login_info.ID\n",
    "PW = login_info.PW\n",
    "driver.find_element(By.NAME, \"username\").send_keys(ID)\n",
    "driver.find_element(By.NAME, \"password\").send_keys(PW)"
   ]
  },
  {
   "cell_type": "code",
   "execution_count": 11,
   "id": "bb446a64",
   "metadata": {},
   "outputs": [],
   "source": [
    "driver.find_element(By.CLASS_NAME, \"L3NKy\").click()"
   ]
  },
  {
   "cell_type": "code",
   "execution_count": 12,
   "id": "f07af34a",
   "metadata": {},
   "outputs": [],
   "source": [
    "driver.find_element(By.CLASS_NAME, \"L3NKy\").click()"
   ]
  },
  {
   "cell_type": "code",
   "execution_count": 13,
   "id": "2646332b",
   "metadata": {},
   "outputs": [],
   "source": [
    "driver.find_element(By.CLASS_NAME, \"aOOlW\").click()"
   ]
  },
  {
   "cell_type": "code",
   "execution_count": 14,
   "id": "91b8cc84",
   "metadata": {},
   "outputs": [],
   "source": [
    "driver.get('https://www.instagram.com/'+login_info.ID)"
   ]
  },
  {
   "cell_type": "code",
   "execution_count": null,
   "id": "90c7766c",
   "metadata": {},
   "outputs": [],
   "source": [
    "for idx, img in enumerate([i.get_attribute('src') for i in driver.find_elements(By.XPATH,'//div[@class=\"KL4Bh\"]/img')]):\n",
    "    img_data = requests.get(img).content\n",
    "    os.makedirs(\"./profile_images\", exist_ok=True) \n",
    "    with open('profile_images/'+str(idx)+'.jpg', 'wb') as handler:\n",
    "        handler.write(img_data)\n"
   ]
  },
  {
   "cell_type": "code",
   "execution_count": null,
   "id": "f84ec96b",
   "metadata": {},
   "outputs": [],
   "source": [
    "driver.close()"
   ]
  },
  {
   "cell_type": "code",
   "execution_count": null,
   "id": "157f2d14",
   "metadata": {},
   "outputs": [],
   "source": []
  }
 ],
 "metadata": {
  "kernelspec": {
   "display_name": "Python 3 (ipykernel)",
   "language": "python",
   "name": "python3"
  },
  "language_info": {
   "codemirror_mode": {
    "name": "ipython",
    "version": 3
   },
   "file_extension": ".py",
   "mimetype": "text/x-python",
   "name": "python",
   "nbconvert_exporter": "python",
   "pygments_lexer": "ipython3",
   "version": "3.9.7"
  }
 },
 "nbformat": 4,
 "nbformat_minor": 5
}
