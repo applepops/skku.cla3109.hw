{
 "cells": [
  {
   "cell_type": "markdown",
   "id": "86608d69",
   "metadata": {},
   "source": [
    "# Watcha Pedia 박스 오피스 영화 정보 수집하기"
   ]
  },
  {
   "cell_type": "markdown",
   "id": "7e8ad16d",
   "metadata": {},
   "source": [
    "## 필요한 라이브러리 설치"
   ]
  },
  {
   "cell_type": "code",
   "execution_count": null,
   "id": "afa99f3e",
   "metadata": {},
   "outputs": [],
   "source": [
    "!pip install lxml\n",
    "!pip install requests\n",
    "!pip install bs4\n",
    "!pip install openpyxl\n",
    "!pip install selenium"
   ]
  },
  {
   "cell_type": "markdown",
   "id": "c94c004b",
   "metadata": {},
   "source": [
    "## 목표 URL 수집하기"
   ]
  },
  {
   "cell_type": "code",
   "execution_count": null,
   "id": "dff1f326",
   "metadata": {
    "scrolled": true
   },
   "outputs": [],
   "source": [
    "import requests # HTTP request를 쉽게 구현해주는 라이브러리\n",
    "watcha_url = \"https://pedia.watcha.com/ko-KR/?domain=movie\" # 크롤링 원하는 주소\n",
    "response = requests.get(watcha_url)\n",
    "response # 내가 원하는 것? https://docs.python-requests.org/en/latest/api/#requests.Response"
   ]
  },
  {
   "cell_type": "code",
   "execution_count": null,
   "id": "3bea9f78",
   "metadata": {},
   "outputs": [],
   "source": [
    "from lxml import html # XML 또는 HTML을 Parsing해 주는 라이브러리\n",
    "bo_urls = [\"https://pedia.watcha.com\"+i for i in html.fromstring(response.text).xpath('//*[@id=\"root\"]/div/div[1]/section/div/section/div[1]/div[2]/div/div[1]/div/div/ul//li//a/@href')]\n",
    "bo_urls"
   ]
  },
  {
   "cell_type": "markdown",
   "id": "55100768",
   "metadata": {},
   "source": [
    "### [Xpath 더 알아보기](https://www.w3schools.com/xml/xpath_syntax.asp)"
   ]
  },
  {
   "cell_type": "markdown",
   "id": "6f28f8d1",
   "metadata": {},
   "source": [
    "## 각 URL에서 원하는 정보 획득하기"
   ]
  },
  {
   "cell_type": "code",
   "execution_count": null,
   "id": "ceb29e0c",
   "metadata": {},
   "outputs": [],
   "source": [
    "bo_list = []\n",
    "for bo_url in bo_urls:\n",
    "    movie_page = requests.get(bo_url)\n",
    "    movie_title = [i.text for i in html.fromstring(movie_page.text).xpath('//*[@id=\"root\"]/div/div[1]/section/div/div[2]/div/section/div[2]/div/div/div/div/h1')][0]\n",
    "    movie_detail = [i for i in html.fromstring(movie_page.text).xpath('//*[@id=\"root\"]/div/div[1]/section/div/div[2]/div/section/div[2]/div/div/div/div/div[1]/text()')][0]\n",
    "    movie_desc  = [i for i in html.fromstring(movie_page.text).xpath('//*[@id=\"root\"]/div/div[1]/section/div/div[2]/div/div/div/div[1]/div[1]/div/div/section[2]/div[2]/div/article/div[2]/div/text()')][0]\n",
    "    movie_rate  = [i for i in html.fromstring(movie_page.text).xpath('//*[@id=\"root\"]/div/div[1]/section/div/div[2]/div/section/div[2]/div/div/div/div/div[2]/text()')][0]\n",
    "    movie_poster = [i.get('src') for i in html.fromstring(movie_page.text).xpath('//*[@id=\"root\"]/div/div[1]/section/div/div[2]/div/section/div[1]/div[2]/div/div/div/div[1]/img')][0]\n",
    "    movie_dict = {\"movie_title\":movie_title, \"movie_detail\":movie_detail,\n",
    "                  \"movie_desc\":movie_desc, \"movie_rate\":movie_rate, \"movie_poster\":movie_poster}\n",
    "    bo_list.append(movie_dict)\n"
   ]
  },
  {
   "cell_type": "code",
   "execution_count": null,
   "id": "fc73bc02",
   "metadata": {},
   "outputs": [],
   "source": [
    "bo_list"
   ]
  },
  {
   "cell_type": "code",
   "execution_count": null,
   "id": "29f14dba",
   "metadata": {},
   "outputs": [],
   "source": [
    "# 제대로 수집 됐는지 확인하기\n",
    "from IPython.display import Image, display # Jupyter notebook에서 이미지를 보여주는 라이브러리\n",
    "Image(url=bo_list[1]['movie_poster'])"
   ]
  },
  {
   "cell_type": "markdown",
   "id": "c95e5963",
   "metadata": {},
   "source": [
    "## BeautifulSoup4으로 한다면?"
   ]
  },
  {
   "cell_type": "code",
   "execution_count": null,
   "id": "a2764241",
   "metadata": {},
   "outputs": [],
   "source": [
    "from bs4 import BeautifulSoup # https://www.crummy.com/software/BeautifulSoup/bs4/doc/\n",
    "for bo_url in bo_urls:\n",
    "    movie_page = requests.get(bo_url).text\n",
    "    soup = BeautifulSoup(movie_page, 'html.parser')\n",
    "    movie_title = soup.select_one('#root > div > div.css-1xm32e0 > section > div > div.css-1ihluk0-Content.e1ezac431 > div > section > div.css-1p7n6er-Pane.e1svyhwg15 > div > div > div > div > h1')\n",
    "    movie_title = movie_title.get_text()\n",
    "    print(movie_title)"
   ]
  },
  {
   "cell_type": "markdown",
   "id": "fe3d08e9",
   "metadata": {},
   "source": [
    "## pandas DataFrame으로 만들기"
   ]
  },
  {
   "cell_type": "code",
   "execution_count": null,
   "id": "c6517770",
   "metadata": {},
   "outputs": [],
   "source": [
    "import pandas as pd"
   ]
  },
  {
   "cell_type": "code",
   "execution_count": null,
   "id": "469a0a51",
   "metadata": {},
   "outputs": [],
   "source": [
    "box_office = pd.DataFrame(bo_list)\n",
    "box_office"
   ]
  },
  {
   "cell_type": "markdown",
   "id": "e0bb60ef",
   "metadata": {},
   "source": [
    "## movie_detail에서 년도, 장르, 국적 분리하기 "
   ]
  },
  {
   "cell_type": "code",
   "execution_count": null,
   "id": "92b175cd",
   "metadata": {},
   "outputs": [],
   "source": [
    "box_office['movie_year'] = box_office['movie_detail'].apply(lambda x: x.split(\" ・ \")[0])\n",
    "box_office['movie_genre'] = box_office['movie_detail'].apply(lambda x: x.split(\" ・ \")[1])\n",
    "box_office['movie_nation'] = box_office['movie_detail'].apply(lambda x: x.split(\" ・ \")[2])\n",
    "box_office = box_office.drop('movie_detail', axis=1)\n",
    "box_office"
   ]
  },
  {
   "cell_type": "markdown",
   "id": "b1c8e322",
   "metadata": {},
   "source": [
    "## movie_rate에서 평점만 추출하기"
   ]
  },
  {
   "cell_type": "code",
   "execution_count": null,
   "id": "8f95033c",
   "metadata": {},
   "outputs": [],
   "source": [
    "box_office['movie_rate'] = box_office['movie_rate'].str.findall(\"\\d+\\.\\d+\") # 정규표현식. 언젠가 다룰 예정.\n",
    "box_office"
   ]
  },
  {
   "cell_type": "code",
   "execution_count": null,
   "id": "bc4a578e",
   "metadata": {},
   "outputs": [],
   "source": [
    "box_office['movie_rate'] = box_office['movie_rate'].apply(lambda x: x[0] if x != [] else None) # 삼항 연산자 설명\n",
    "box_office"
   ]
  },
  {
   "cell_type": "markdown",
   "id": "e4bf34f2",
   "metadata": {},
   "source": [
    "## 파일로 저장하기"
   ]
  },
  {
   "cell_type": "code",
   "execution_count": null,
   "id": "971b12f2",
   "metadata": {},
   "outputs": [],
   "source": [
    "box_office.to_csv(\"box_office.csv\", index=False)"
   ]
  },
  {
   "cell_type": "code",
   "execution_count": null,
   "id": "a4fa5ba1",
   "metadata": {},
   "outputs": [],
   "source": [
    "box_office.to_excel(\"box_office.xlsx\", index=False)"
   ]
  },
  {
   "cell_type": "markdown",
   "id": "4cc15dc4",
   "metadata": {},
   "source": [
    "## 파일 불러오기"
   ]
  },
  {
   "cell_type": "code",
   "execution_count": null,
   "id": "3a8c0110",
   "metadata": {},
   "outputs": [],
   "source": [
    "bodf = pd.read_csv('box_office.csv')"
   ]
  },
  {
   "cell_type": "markdown",
   "id": "67840bae",
   "metadata": {},
   "source": [
    "## 폰트 설정하기"
   ]
  },
  {
   "cell_type": "code",
   "execution_count": null,
   "id": "02c5a9a0",
   "metadata": {},
   "outputs": [],
   "source": [
    "# 운영체제별 한글 폰트 설정\n",
    "import platform\n",
    "import matplotlib.pyplot as plt\n",
    "if platform.system() == 'Darwin': # Mac 환경 폰트 설정\n",
    "    plt.rc('font', family='AppleGothic')\n",
    "elif platform.system() == 'Windows': # Windows 환경 폰트 설정\n",
    "    plt.rc('font', family='Malgun Gothic')"
   ]
  },
  {
   "cell_type": "markdown",
   "id": "4929616a",
   "metadata": {},
   "source": [
    "## 영화별 평점 Bar plot 그리기"
   ]
  },
  {
   "cell_type": "code",
   "execution_count": null,
   "id": "94725c87",
   "metadata": {},
   "outputs": [],
   "source": [
    "bodf.plot.bar(x='movie_title',y='movie_rate')"
   ]
  },
  {
   "cell_type": "markdown",
   "id": "e3a0dfc8",
   "metadata": {},
   "source": [
    "## 인스타그램은 어떻게 크롤링할까?"
   ]
  },
  {
   "cell_type": "markdown",
   "id": "ca250c91",
   "metadata": {},
   "source": [
    "### Selenium chrome driver 설치하기 [Chrome driver 다운로드](https://sites.google.com/chromium.org/driver/)\n",
    "#### Windows : C:\\Windows 에 넣기\n",
    "#### Mac : /usr/local/bin 에 넣기"
   ]
  },
  {
   "cell_type": "code",
   "execution_count": 7,
   "id": "607ce7e1",
   "metadata": {},
   "outputs": [
    {
     "name": "stderr",
     "output_type": "stream",
     "text": [
      "/Users/dhchoi/opt/miniconda3/lib/python3.7/site-packages/ipykernel_launcher.py:7: DeprecationWarning: use options instead of chrome_options\n",
      "  import sys\n"
     ]
    }
   ],
   "source": [
    "from selenium import webdriver\n",
    "from selenium.webdriver.common.by import By\n",
    "import os\n",
    "chrome_options = webdriver.ChromeOptions()\n",
    "# 브라우저에 임의로 User-agent 옵션을 넣어 Python 코드로 접속함을 숨김\n",
    "chrome_options.add_argument('--user-agent=\"Mozilla/5.0 (Macintosh; Intel Mac OS X 10_13_4) AppleWebKit/537.36 (KHTML, like Gecko) Chrome/66.0.3359.139 Safari/537.36\"')\n",
    "driver = webdriver.Chrome(chrome_options=chrome_options)\n",
    "URL = \"https://www.instagram.com/\""
   ]
  },
  {
   "cell_type": "code",
   "execution_count": 8,
   "id": "fad057b6",
   "metadata": {},
   "outputs": [],
   "source": [
    "driver.get(URL)"
   ]
  },
  {
   "cell_type": "code",
   "execution_count": 9,
   "id": "64798fd0",
   "metadata": {},
   "outputs": [],
   "source": [
    "import login_info"
   ]
  },
  {
   "cell_type": "code",
   "execution_count": 10,
   "id": "32e5728a",
   "metadata": {},
   "outputs": [],
   "source": [
    "ID = login_info.ID\n",
    "PW = login_info.PW\n",
    "driver.find_element(By.NAME, \"username\").send_keys(ID)\n",
    "driver.find_element(By.NAME, \"password\").send_keys(PW)"
   ]
  },
  {
   "cell_type": "code",
   "execution_count": 11,
   "id": "bb446a64",
   "metadata": {},
   "outputs": [],
   "source": [
    "driver.find_element(By.CLASS_NAME, \"L3NKy\").click()"
   ]
  },
  {
   "cell_type": "code",
   "execution_count": 12,
   "id": "f07af34a",
   "metadata": {},
   "outputs": [],
   "source": [
    "driver.find_element(By.CLASS_NAME, \"L3NKy\").click()"
   ]
  },
  {
   "cell_type": "code",
   "execution_count": 13,
   "id": "2646332b",
   "metadata": {},
   "outputs": [],
   "source": [
    "driver.find_element(By.CLASS_NAME, \"aOOlW\").click()"
   ]
  },
  {
   "cell_type": "code",
   "execution_count": 14,
   "id": "91b8cc84",
   "metadata": {},
   "outputs": [],
   "source": [
    "driver.get('https://www.instagram.com/'+login_info.ID)"
   ]
  },
  {
   "cell_type": "code",
   "execution_count": null,
   "id": "90c7766c",
   "metadata": {},
   "outputs": [],
   "source": [
    "for idx, img in enumerate([i.get_attribute('src') for i in driver.find_elements(By.XPATH,'//div[@class=\"KL4Bh\"]/img')]):\n",
    "    img_data = requests.get(img).content\n",
    "    os.makedirs(\"./profile_images\", exist_ok=True) \n",
    "    with open('profile_images/'+str(idx)+'.jpg', 'wb') as handler:\n",
    "        handler.write(img_data)\n"
   ]
  },
  {
   "cell_type": "code",
   "execution_count": null,
   "id": "f84ec96b",
   "metadata": {},
   "outputs": [],
   "source": [
    "driver.close()"
   ]
  },
  {
   "cell_type": "code",
   "execution_count": null,
   "id": "157f2d14",
   "metadata": {},
   "outputs": [],
   "source": []
  }
 ],
 "metadata": {
  "kernelspec": {
   "display_name": "Python 3 (ipykernel)",
   "language": "python",
   "name": "python3"
  },
  "language_info": {
   "codemirror_mode": {
    "name": "ipython",
    "version": 3
   },
   "file_extension": ".py",
   "mimetype": "text/x-python",
   "name": "python",
   "nbconvert_exporter": "python",
   "pygments_lexer": "ipython3",
   "version": "3.9.7"
  }
 },
 "nbformat": 4,
 "nbformat_minor": 5
}
