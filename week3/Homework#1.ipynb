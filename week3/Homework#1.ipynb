{
 "cells": [
  {
   "cell_type": "markdown",
   "id": "149159e1",
   "metadata": {},
   "source": [
    "# 이름: 황지희\n",
    "# 학번: 2020312298\n",
    "# 학과: 국어국문학과"
   ]
  },
  {
   "cell_type": "markdown",
   "id": "fd253403",
   "metadata": {},
   "source": [
    "### 주의사항: your {command, answer, code} here 지우고 작성할 것."
   ]
  },
  {
   "cell_type": "markdown",
   "id": "d540dda8",
   "metadata": {},
   "source": [
    "##### Q1. (UNIX) 디렉토리 내에 있는 파일들의 목록을 내림차순으로 출력하는 명령어를 적으세요. ( ! 기호 후 명령어 입력. Windows 명령어도 인정함. )"
   ]
  },
  {
   "cell_type": "code",
   "execution_count": null,
   "id": "0555ad2f",
   "metadata": {},
   "outputs": [],
   "source": [
    "!sort -r"
   ]
  },
  {
   "cell_type": "markdown",
   "id": "d7d387d6",
   "metadata": {},
   "source": [
    "##### Q2. (UNIX) UNIX에서는 모든 것이 \\_\\_이것\\_\\_이다. 이것에 들어갈 말을 영어로 적으세요. "
   ]
  },
  {
   "cell_type": "code",
   "execution_count": null,
   "id": "98fb52fb",
   "metadata": {},
   "outputs": [],
   "source": [
    "File"
   ]
  },
  {
   "cell_type": "markdown",
   "id": "a7b66b8a",
   "metadata": {},
   "source": [
    "##### Q3. 다음 리스트에서 짝수만 남기면서, 892 보다 큰 수는 출력되지 않는 리스트를 만드세요."
   ]
  },
  {
   "cell_type": "code",
   "execution_count": 3,
   "id": "4d27e3db",
   "metadata": {},
   "outputs": [
    {
     "name": "stdout",
     "output_type": "stream",
     "text": [
      "[386, 462, 418, 344, 236, 566, 328, 162, 758, 412, 566, 826, 248, 866, 626, 104, 58, 512, 24, 742]\n"
     ]
    }
   ],
   "source": [
    "numbers = [    \n",
    "    386, 462, 47, 418, 907, 344, 236, 375, 823, 566, 597, 978, 328, 615, 953, 345, \n",
    "    399, 162, 758, 219, 918, 237, 412, 566, 826, 248, 866, 950, 626, 949, 687, 217, \n",
    "    815, 67, 104, 58, 512, 24, 892, 894, 767, 553, 81, 379, 843, 831, 445, 742, 717, \n",
    "    958,743, 527\n",
    "    ]\n",
    "\n",
    "print([n for n in numbers if n % 2 == 0 and n < 892])"
   ]
  },
  {
   "cell_type": "markdown",
   "id": "c4efa335",
   "metadata": {},
   "source": [
    "##### Q4. 다음 2개의 변수 a, b의 값을 한 줄로 바꾸는 코드를 완성하세요."
   ]
  },
  {
   "cell_type": "code",
   "execution_count": 5,
   "id": "2ede8382",
   "metadata": {},
   "outputs": [
    {
     "name": "stdout",
     "output_type": "stream",
     "text": [
      "변희봉 신하균\n"
     ]
    }
   ],
   "source": [
    "young_man = \"신하균\"\n",
    "old_man = \"변희봉\"\n",
    "young_man, old_man = old_man, young_man\n",
    "print(young_man, old_man)"
   ]
  },
  {
   "cell_type": "markdown",
   "id": "780c7a67",
   "metadata": {},
   "source": [
    "##### Q5. 한국어의 목적격 조사 '을'과 '를'은 앞에 나오는 단어의 받침에 따라 결정된다. 예를 들어, \"나는 오늘 수업을 들었다.\"에서 \"수업\" 뒤에 붙는 목적격 조사 \"을\"은 앞 음절에 받침이 있기 때문에 \"을\"을 사용한 것이다. 만일, 앞 음절에 받침이 없었다면 \"를\"을 사용했을 것이다. 입력으로 넣은 단어의 목적격 조사로 '을'과 '를' 중 어떤 것이 적절할 지 판단하는 함수를 작성하세요."
   ]
  },
  {
   "cell_type": "code",
   "execution_count": 15,
   "id": "3c0d0c9d",
   "metadata": {},
   "outputs": [
    {
     "data": {
      "text/plain": [
       "'여수 밤바다를'"
      ]
     },
     "execution_count": 15,
     "metadata": {},
     "output_type": "execute_result"
    }
   ],
   "source": [
    "# 참고\n",
    "# 초성 리스트. 00 ~ 18\n",
    "CHOSUNG_LIST = ['ㄱ', 'ㄲ', 'ㄴ', 'ㄷ', 'ㄸ', 'ㄹ', 'ㅁ', 'ㅂ', 'ㅃ', 'ㅅ', 'ㅆ', 'ㅇ', 'ㅈ', 'ㅉ', 'ㅊ', 'ㅋ', 'ㅌ', 'ㅍ', 'ㅎ']\n",
    "# 중성 리스트. 00 ~ 20\n",
    "JUNGSUNG_LIST = ['ㅏ', 'ㅐ', 'ㅑ', 'ㅒ', 'ㅓ', 'ㅔ', 'ㅕ', 'ㅖ', 'ㅗ', 'ㅘ', 'ㅙ', 'ㅚ', 'ㅛ', 'ㅜ', 'ㅝ', 'ㅞ', 'ㅟ', 'ㅠ', 'ㅡ', 'ㅢ', 'ㅣ']\n",
    "# 종성 리스트. 00 ~ 27 + 1(1개 없음)\n",
    "JONGSUNG_LIST = [' ', 'ㄱ', 'ㄲ', 'ㄳ', 'ㄴ', 'ㄵ', 'ㄶ', 'ㄷ', 'ㄹ', 'ㄺ', 'ㄻ', 'ㄼ', 'ㄽ', 'ㄾ', 'ㄿ', 'ㅀ', 'ㅁ', 'ㅂ', 'ㅄ', 'ㅅ', 'ㅆ', 'ㅇ', 'ㅈ', 'ㅊ', 'ㅋ', 'ㅌ', 'ㅍ', 'ㅎ']\n",
    "\n",
    "def decide_postposition(word):\n",
    "    w = word[-1]\n",
    "    if (ord(w)-ord('가')) % 28 == 0:\n",
    "        return word + '를'\n",
    "    else: return word + '을'\n",
    "\n",
    "decide_postposition(\"여수 밤바다\") # 실행 결과 \"여수 밤바다를\"이 출력되어야 함."
   ]
  },
  {
   "cell_type": "markdown",
   "id": "794c0d3e",
   "metadata": {},
   "source": [
    "##### Q6. 다음 문자열을 역순으로 출력하는 한 줄짜리 코드를 작성하세요."
   ]
  },
  {
   "cell_type": "code",
   "execution_count": 90,
   "id": "82143555",
   "metadata": {},
   "outputs": [
    {
     "name": "stdout",
     "output_type": "stream",
     "text": [
      "말해말 꺼꾸로 꺼꾸로 꺼꾸로"
     ]
    }
   ],
   "source": [
    "sentence = \"로꾸꺼 로꾸꺼 로꾸꺼 말해말\"\n",
    "for i in range(len(sentence)): print(sentence[-i -1], end = '')"
   ]
  },
  {
   "cell_type": "markdown",
   "id": "f7f1c98e",
   "metadata": {},
   "source": [
    "##### Q7. 주어진 dictionary가 모두 같은 값을 갖고 있는지 확인하는 함수를 작성하세요."
   ]
  },
  {
   "cell_type": "code",
   "execution_count": 94,
   "id": "4caa1469",
   "metadata": {},
   "outputs": [
    {
     "name": "stdout",
     "output_type": "stream",
     "text": [
      "True\n",
      "False\n"
     ]
    }
   ],
   "source": [
    "def check_homogeneity(dictionary):\n",
    "    values_list = list(dictionary.values())\n",
    "    for i in range (0, len(values_list)-1):\n",
    "        if values_list[i] != values_list[i+1]: return False\n",
    "    return True\n",
    "            \n",
    "print(check_homogeneity({\"정조\":\"왕\", \"단종\":\"왕\", \"광해군\":\"왕\"})) # return True\n",
    "print(check_homogeneity({\"걸스데이\":4, \"씨스타\":4, \"블랭핑크\":4, \"소녀시대\":9})) # return False"
   ]
  },
  {
   "cell_type": "markdown",
   "id": "dd08def5",
   "metadata": {},
   "source": [
    "##### Q8. 다음 두 리스트 s1, s2를 Pandas의 Series로 만들고 두 Series를 더해보세요."
   ]
  },
  {
   "cell_type": "code",
   "execution_count": 2,
   "id": "aefc2d5a",
   "metadata": {},
   "outputs": [
    {
     "data": {
      "text/plain": [
       "0     3\n",
       "1     7\n",
       "2    11\n",
       "3    15\n",
       "4    19\n",
       "dtype: int64"
      ]
     },
     "execution_count": 2,
     "metadata": {},
     "output_type": "execute_result"
    }
   ],
   "source": [
    "import pandas as pd\n",
    "s1 = [2, 4, 6, 8, 10]\n",
    "s2 = [1, 3, 5, 7, 9]\n",
    "s1 = pd.Series(s1)\n",
    "s2 = pd.Series(s2)\n",
    "s1 + s2"
   ]
  },
  {
   "cell_type": "markdown",
   "id": "e2561558",
   "metadata": {},
   "source": [
    "##### Q9. 다음 DataFrame 에서, name(이름)과 turnout(득표율)만 선택(selection)하는 코드를 작성하세요."
   ]
  },
  {
   "cell_type": "code",
   "execution_count": 4,
   "id": "d7d4d64f",
   "metadata": {
    "scrolled": true
   },
   "outputs": [
    {
     "data": {
      "text/html": [
       "<div>\n",
       "<style scoped>\n",
       "    .dataframe tbody tr th:only-of-type {\n",
       "        vertical-align: middle;\n",
       "    }\n",
       "\n",
       "    .dataframe tbody tr th {\n",
       "        vertical-align: top;\n",
       "    }\n",
       "\n",
       "    .dataframe thead th {\n",
       "        text-align: right;\n",
       "    }\n",
       "</style>\n",
       "<table border=\"1\" class=\"dataframe\">\n",
       "  <thead>\n",
       "    <tr style=\"text-align: right;\">\n",
       "      <th></th>\n",
       "      <th>name</th>\n",
       "      <th>turnout</th>\n",
       "    </tr>\n",
       "  </thead>\n",
       "  <tbody>\n",
       "    <tr>\n",
       "      <th>가</th>\n",
       "      <td>이승만</td>\n",
       "      <td>91.8</td>\n",
       "    </tr>\n",
       "    <tr>\n",
       "      <th>나</th>\n",
       "      <td>윤보선</td>\n",
       "      <td>79.1</td>\n",
       "    </tr>\n",
       "    <tr>\n",
       "      <th>다</th>\n",
       "      <td>박정희</td>\n",
       "      <td>46.6</td>\n",
       "    </tr>\n",
       "    <tr>\n",
       "      <th>라</th>\n",
       "      <td>최규하</td>\n",
       "      <td>96.3</td>\n",
       "    </tr>\n",
       "    <tr>\n",
       "      <th>마</th>\n",
       "      <td>전두환</td>\n",
       "      <td>99.4</td>\n",
       "    </tr>\n",
       "    <tr>\n",
       "      <th>바</th>\n",
       "      <td>노태우</td>\n",
       "      <td>36.6</td>\n",
       "    </tr>\n",
       "    <tr>\n",
       "      <th>사</th>\n",
       "      <td>김영삼</td>\n",
       "      <td>42.0</td>\n",
       "    </tr>\n",
       "    <tr>\n",
       "      <th>아</th>\n",
       "      <td>김대중</td>\n",
       "      <td>40.3</td>\n",
       "    </tr>\n",
       "    <tr>\n",
       "      <th>자</th>\n",
       "      <td>노무현</td>\n",
       "      <td>48.9</td>\n",
       "    </tr>\n",
       "    <tr>\n",
       "      <th>차</th>\n",
       "      <td>이명박</td>\n",
       "      <td>48.7</td>\n",
       "    </tr>\n",
       "    <tr>\n",
       "      <th>카</th>\n",
       "      <td>박근혜</td>\n",
       "      <td>51.6</td>\n",
       "    </tr>\n",
       "    <tr>\n",
       "      <th>타</th>\n",
       "      <td>문재인</td>\n",
       "      <td>41.1</td>\n",
       "    </tr>\n",
       "  </tbody>\n",
       "</table>\n",
       "</div>"
      ],
      "text/plain": [
       "  name  turnout\n",
       "가  이승만     91.8\n",
       "나  윤보선     79.1\n",
       "다  박정희     46.6\n",
       "라  최규하     96.3\n",
       "마  전두환     99.4\n",
       "바  노태우     36.6\n",
       "사  김영삼     42.0\n",
       "아  김대중     40.3\n",
       "자  노무현     48.9\n",
       "차  이명박     48.7\n",
       "카  박근혜     51.6\n",
       "타  문재인     41.1"
      ]
     },
     "execution_count": 4,
     "metadata": {},
     "output_type": "execute_result"
    }
   ],
   "source": [
    "import pandas as pd\n",
    "import numpy as np\n",
    "president_data  = {'name': ['이승만', '윤보선', '박정희', '최규하', '전두환', '노태우',\n",
    "                       '김영삼', '김대중', '노무현', '이명박', '박근혜', '문재인'],\n",
    "        'turnout': [91.8, 79.1, 46.6, 96.3, 99.4, 36.6,\n",
    "                    42, 40.3, 48.9, 48.7, 51.6,41.1],\n",
    "        'jail': ['no', 'no', 'no', 'no', 'yes', 'yes',\n",
    "                'no', 'no', 'no','yes','yes',np.nan]}\n",
    "labels = ['가', '나', '다', '라', '마', '바', '사', '아', '자', '차','카','타']\n",
    "presidents = pd.DataFrame(president_data, index=labels)\n",
    "presidents = presidents.loc[:,['name', 'turnout']]\n",
    "presidents"
   ]
  },
  {
   "cell_type": "markdown",
   "id": "f39b55d7",
   "metadata": {},
   "source": [
    "##### Q10. Q9 에서 만든 DataFrame에 각 대통령의 재임 기간을 조사하여 'period'라는 column을 만들고, 'period'의 내림차순으로 DataFrame을 정렬하세요."
   ]
  },
  {
   "cell_type": "code",
   "execution_count": 6,
   "id": "57ff82a5",
   "metadata": {
    "scrolled": true
   },
   "outputs": [],
   "source": [
    "presidents.insert(loc = 1, column = 'period', value = [4273, 588, 5793, 255, 2733, 1827, 1826, 1825, 1826, 1827, 1474, 0])"
   ]
  },
  {
   "cell_type": "code",
   "execution_count": 7,
   "id": "ad30fdbe",
   "metadata": {},
   "outputs": [
    {
     "data": {
      "text/html": [
       "<div>\n",
       "<style scoped>\n",
       "    .dataframe tbody tr th:only-of-type {\n",
       "        vertical-align: middle;\n",
       "    }\n",
       "\n",
       "    .dataframe tbody tr th {\n",
       "        vertical-align: top;\n",
       "    }\n",
       "\n",
       "    .dataframe thead th {\n",
       "        text-align: right;\n",
       "    }\n",
       "</style>\n",
       "<table border=\"1\" class=\"dataframe\">\n",
       "  <thead>\n",
       "    <tr style=\"text-align: right;\">\n",
       "      <th></th>\n",
       "      <th>name</th>\n",
       "      <th>period</th>\n",
       "      <th>turnout</th>\n",
       "    </tr>\n",
       "  </thead>\n",
       "  <tbody>\n",
       "    <tr>\n",
       "      <th>다</th>\n",
       "      <td>박정희</td>\n",
       "      <td>5793</td>\n",
       "      <td>46.6</td>\n",
       "    </tr>\n",
       "    <tr>\n",
       "      <th>가</th>\n",
       "      <td>이승만</td>\n",
       "      <td>4273</td>\n",
       "      <td>91.8</td>\n",
       "    </tr>\n",
       "    <tr>\n",
       "      <th>마</th>\n",
       "      <td>전두환</td>\n",
       "      <td>2733</td>\n",
       "      <td>99.4</td>\n",
       "    </tr>\n",
       "    <tr>\n",
       "      <th>바</th>\n",
       "      <td>노태우</td>\n",
       "      <td>1827</td>\n",
       "      <td>36.6</td>\n",
       "    </tr>\n",
       "    <tr>\n",
       "      <th>차</th>\n",
       "      <td>이명박</td>\n",
       "      <td>1827</td>\n",
       "      <td>48.7</td>\n",
       "    </tr>\n",
       "    <tr>\n",
       "      <th>사</th>\n",
       "      <td>김영삼</td>\n",
       "      <td>1826</td>\n",
       "      <td>42.0</td>\n",
       "    </tr>\n",
       "    <tr>\n",
       "      <th>자</th>\n",
       "      <td>노무현</td>\n",
       "      <td>1826</td>\n",
       "      <td>48.9</td>\n",
       "    </tr>\n",
       "    <tr>\n",
       "      <th>아</th>\n",
       "      <td>김대중</td>\n",
       "      <td>1825</td>\n",
       "      <td>40.3</td>\n",
       "    </tr>\n",
       "    <tr>\n",
       "      <th>카</th>\n",
       "      <td>박근혜</td>\n",
       "      <td>1474</td>\n",
       "      <td>51.6</td>\n",
       "    </tr>\n",
       "    <tr>\n",
       "      <th>나</th>\n",
       "      <td>윤보선</td>\n",
       "      <td>588</td>\n",
       "      <td>79.1</td>\n",
       "    </tr>\n",
       "    <tr>\n",
       "      <th>라</th>\n",
       "      <td>최규하</td>\n",
       "      <td>255</td>\n",
       "      <td>96.3</td>\n",
       "    </tr>\n",
       "    <tr>\n",
       "      <th>타</th>\n",
       "      <td>문재인</td>\n",
       "      <td>0</td>\n",
       "      <td>41.1</td>\n",
       "    </tr>\n",
       "  </tbody>\n",
       "</table>\n",
       "</div>"
      ],
      "text/plain": [
       "  name  period  turnout\n",
       "다  박정희    5793     46.6\n",
       "가  이승만    4273     91.8\n",
       "마  전두환    2733     99.4\n",
       "바  노태우    1827     36.6\n",
       "차  이명박    1827     48.7\n",
       "사  김영삼    1826     42.0\n",
       "자  노무현    1826     48.9\n",
       "아  김대중    1825     40.3\n",
       "카  박근혜    1474     51.6\n",
       "나  윤보선     588     79.1\n",
       "라  최규하     255     96.3\n",
       "타  문재인       0     41.1"
      ]
     },
     "execution_count": 7,
     "metadata": {},
     "output_type": "execute_result"
    }
   ],
   "source": [
    "presidents.sort_values(by=['period'], ascending = False)"
   ]
  }
 ],
 "metadata": {
  "kernelspec": {
   "display_name": "Python 3 (ipykernel)",
   "language": "python",
   "name": "python3"
  },
  "language_info": {
   "codemirror_mode": {
    "name": "ipython",
    "version": 3
   },
   "file_extension": ".py",
   "mimetype": "text/x-python",
   "name": "python",
   "nbconvert_exporter": "python",
   "pygments_lexer": "ipython3",
   "version": "3.9.7"
  }
 },
 "nbformat": 4,
 "nbformat_minor": 5
}
